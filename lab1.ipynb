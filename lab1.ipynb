{
  "nbformat": 4,
  "nbformat_minor": 0,
  "metadata": {
    "colab": {
      "name": "lab1.ipynb",
      "provenance": [],
      "collapsed_sections": [],
      "authorship_tag": "ABX9TyNJSac3EiauKXpHurI/biy8",
      "include_colab_link": true
    },
    "kernelspec": {
      "name": "python3",
      "display_name": "Python 3"
    },
    "language_info": {
      "name": "python"
    }
  },
  "cells": [
    {
      "cell_type": "markdown",
      "metadata": {
        "id": "view-in-github",
        "colab_type": "text"
      },
      "source": [
        "<a href=\"https://colab.research.google.com/github/Nahidjc/Al_Lab/blob/main/lab1.ipynb\" target=\"_parent\"><img src=\"https://colab.research.google.com/assets/colab-badge.svg\" alt=\"Open In Colab\"/></a>"
      ]
    },
    {
      "cell_type": "code",
      "metadata": {
        "id": "Hn_Ln40hvv3s",
        "colab": {
          "base_uri": "https://localhost:8080/"
        },
        "outputId": "900c34d4-59bc-4c57-fbb8-05aff29e1702"
      },
      "source": [
        "print(\"Hello world\")"
      ],
      "execution_count": null,
      "outputs": [
        {
          "output_type": "stream",
          "text": [
            "Hello world\n"
          ],
          "name": "stdout"
        }
      ]
    },
    {
      "cell_type": "code",
      "metadata": {
        "colab": {
          "base_uri": "https://localhost:8080/"
        },
        "id": "uio-lMGGw-TD",
        "outputId": "0ec03339-363f-4265-f054-40903ee49a92"
      },
      "source": [
        "x=5\n",
        "y=5\n",
        "z=x+y\n",
        "print(z)"
      ],
      "execution_count": null,
      "outputs": [
        {
          "output_type": "stream",
          "text": [
            "10\n"
          ],
          "name": "stdout"
        }
      ]
    },
    {
      "cell_type": "code",
      "metadata": {
        "colab": {
          "base_uri": "https://localhost:8080/"
        },
        "id": "DHqB6VNQxJnj",
        "outputId": "a4b74ab2-2d1e-4311-8173-3944d10d3a5f"
      },
      "source": [
        "name=\"Nahid\"\n",
        "name2=\"Hasan\"\n",
        "print(name+\" \"+ name2)"
      ],
      "execution_count": null,
      "outputs": [
        {
          "output_type": "stream",
          "text": [
            "Nahid Hasan\n"
          ],
          "name": "stdout"
        }
      ]
    },
    {
      "cell_type": "code",
      "metadata": {
        "colab": {
          "base_uri": "https://localhost:8080/"
        },
        "id": "dAQeqju3yvDM",
        "outputId": "216f32b6-8a63-40da-8ecc-e2842e85c25c"
      },
      "source": [
        "n = 5\n",
        "type(n)"
      ],
      "execution_count": null,
      "outputs": [
        {
          "output_type": "execute_result",
          "data": {
            "text/plain": [
              "int"
            ]
          },
          "metadata": {
            "tags": []
          },
          "execution_count": 6
        }
      ]
    },
    {
      "cell_type": "code",
      "metadata": {
        "colab": {
          "base_uri": "https://localhost:8080/"
        },
        "id": "9r1Kyo8wy3Wr",
        "outputId": "abe68b2d-572e-4542-eca2-be56917db39d"
      },
      "source": [
        "n = 5.5\n",
        "type(n)"
      ],
      "execution_count": null,
      "outputs": [
        {
          "output_type": "execute_result",
          "data": {
            "text/plain": [
              "float"
            ]
          },
          "metadata": {
            "tags": []
          },
          "execution_count": 7
        }
      ]
    },
    {
      "cell_type": "code",
      "metadata": {
        "colab": {
          "base_uri": "https://localhost:8080/"
        },
        "id": "-soqznyHy6as",
        "outputId": "f59f0765-e9f0-424e-a3e2-660ddf60f7cc"
      },
      "source": [
        "type(name)"
      ],
      "execution_count": null,
      "outputs": [
        {
          "output_type": "execute_result",
          "data": {
            "text/plain": [
              "str"
            ]
          },
          "metadata": {
            "tags": []
          },
          "execution_count": 8
        }
      ]
    },
    {
      "cell_type": "code",
      "metadata": {
        "colab": {
          "base_uri": "https://localhost:8080/"
        },
        "id": "7NDtd6CPy-sk",
        "outputId": "9a560164-1063-4ee7-87c9-11edc4120846"
      },
      "source": [
        "multiplication = 7*5\n",
        "print(multiplication)"
      ],
      "execution_count": null,
      "outputs": [
        {
          "output_type": "stream",
          "text": [
            "35\n"
          ],
          "name": "stdout"
        }
      ]
    },
    {
      "cell_type": "code",
      "metadata": {
        "colab": {
          "base_uri": "https://localhost:8080/"
        },
        "id": "MlINZPSCzJt8",
        "outputId": "b387a753-cb29-45ce-958a-6874631fe652"
      },
      "source": [
        "sub = 40-5\n",
        "print(sub)\n",
        "type(sub)"
      ],
      "execution_count": null,
      "outputs": [
        {
          "output_type": "stream",
          "text": [
            "35\n"
          ],
          "name": "stdout"
        },
        {
          "output_type": "execute_result",
          "data": {
            "text/plain": [
              "int"
            ]
          },
          "metadata": {
            "tags": []
          },
          "execution_count": 10
        }
      ]
    },
    {
      "cell_type": "code",
      "metadata": {
        "colab": {
          "base_uri": "https://localhost:8080/"
        },
        "id": "iPQbHxJ4zQkU",
        "outputId": "0eaca002-cdcf-45a0-8283-c74fb3c3a783"
      },
      "source": [
        "Exponentiation = 2**10\n",
        "print(Exponentiation)"
      ],
      "execution_count": null,
      "outputs": [
        {
          "output_type": "stream",
          "text": [
            "1024\n"
          ],
          "name": "stdout"
        }
      ]
    },
    {
      "cell_type": "code",
      "metadata": {
        "colab": {
          "base_uri": "https://localhost:8080/"
        },
        "id": "jiOVU17RzfiM",
        "outputId": "b1998909-9ed0-463f-dd0b-eea1d8435703"
      },
      "source": [
        "True_Division = 7/4\n",
        "print(True_Division)"
      ],
      "execution_count": null,
      "outputs": [
        {
          "output_type": "stream",
          "text": [
            "1.75\n"
          ],
          "name": "stdout"
        }
      ]
    },
    {
      "cell_type": "code",
      "metadata": {
        "colab": {
          "base_uri": "https://localhost:8080/"
        },
        "id": "izKEp1NizvmT",
        "outputId": "9baf1cd7-1588-42db-e08c-7b26675e4b2d"
      },
      "source": [
        "remainder = 15%7\n",
        "print(remainder)"
      ],
      "execution_count": null,
      "outputs": [
        {
          "output_type": "stream",
          "text": [
            "1\n"
          ],
          "name": "stdout"
        }
      ]
    },
    {
      "cell_type": "code",
      "metadata": {
        "colab": {
          "base_uri": "https://localhost:8080/"
        },
        "id": "ZJ-EM17jz-K0",
        "outputId": "fc9af0e8-3e21-476f-e4d0-0964673e9995"
      },
      "source": [
        "x= 100\n",
        "y = 50\n",
        "x>y"
      ],
      "execution_count": null,
      "outputs": [
        {
          "output_type": "execute_result",
          "data": {
            "text/plain": [
              "True"
            ]
          },
          "metadata": {
            "tags": []
          },
          "execution_count": 14
        }
      ]
    },
    {
      "cell_type": "code",
      "metadata": {
        "colab": {
          "base_uri": "https://localhost:8080/"
        },
        "id": "Gkhu4pW20D1E",
        "outputId": "5e8ad70b-0e8a-42fd-9cbc-feda0c711157"
      },
      "source": [
        "x<y\n"
      ],
      "execution_count": null,
      "outputs": [
        {
          "output_type": "execute_result",
          "data": {
            "text/plain": [
              "False"
            ]
          },
          "metadata": {
            "tags": []
          },
          "execution_count": 16
        }
      ]
    },
    {
      "cell_type": "code",
      "metadata": {
        "colab": {
          "base_uri": "https://localhost:8080/"
        },
        "id": "hK5fTMGN0Nmw",
        "outputId": "173b5552-179c-4dfa-866e-c0a6f6c3bea8"
      },
      "source": [
        "x==y\n"
      ],
      "execution_count": null,
      "outputs": [
        {
          "output_type": "execute_result",
          "data": {
            "text/plain": [
              "False"
            ]
          },
          "metadata": {
            "tags": []
          },
          "execution_count": 17
        }
      ]
    },
    {
      "cell_type": "code",
      "metadata": {
        "colab": {
          "base_uri": "https://localhost:8080/"
        },
        "id": "p3AUv9g30POQ",
        "outputId": "affde2b5-99dc-468d-b190-5514102584f3"
      },
      "source": [
        "\n",
        "x>=y\n"
      ],
      "execution_count": null,
      "outputs": [
        {
          "output_type": "execute_result",
          "data": {
            "text/plain": [
              "True"
            ]
          },
          "metadata": {
            "tags": []
          },
          "execution_count": 18
        }
      ]
    },
    {
      "cell_type": "code",
      "metadata": {
        "colab": {
          "base_uri": "https://localhost:8080/"
        },
        "id": "c1NR9kKM0Sj4",
        "outputId": "e004e1cc-b3cf-4abd-c587-6c242555496f"
      },
      "source": [
        "\n",
        "x<=y"
      ],
      "execution_count": null,
      "outputs": [
        {
          "output_type": "execute_result",
          "data": {
            "text/plain": [
              "False"
            ]
          },
          "metadata": {
            "tags": []
          },
          "execution_count": 19
        }
      ]
    },
    {
      "cell_type": "code",
      "metadata": {
        "colab": {
          "base_uri": "https://localhost:8080/"
        },
        "id": "fIqHvy1f0U0D",
        "outputId": "cf26e146-a5ab-460d-e4d1-d6400394663b"
      },
      "source": [
        "x = 3\n",
        "y = 5\n",
        "1<= x <=5"
      ],
      "execution_count": null,
      "outputs": [
        {
          "output_type": "execute_result",
          "data": {
            "text/plain": [
              "True"
            ]
          },
          "metadata": {
            "tags": []
          },
          "execution_count": 20
        }
      ]
    },
    {
      "cell_type": "code",
      "metadata": {
        "colab": {
          "base_uri": "https://localhost:8080/"
        },
        "id": "w80szUJk0ejL",
        "outputId": "f0678280-1570-4439-bf6e-e6f1676d800e"
      },
      "source": [
        "1<=y<=4"
      ],
      "execution_count": null,
      "outputs": [
        {
          "output_type": "execute_result",
          "data": {
            "text/plain": [
              "False"
            ]
          },
          "metadata": {
            "tags": []
          },
          "execution_count": 22
        }
      ]
    },
    {
      "cell_type": "code",
      "metadata": {
        "colab": {
          "base_uri": "https://localhost:8080/"
        },
        "id": "1ayiDcob0kH8",
        "outputId": "1427414c-58ed-4947-cd68-05eddc39caeb"
      },
      "source": [
        "print('Welcome','to','Python')"
      ],
      "execution_count": null,
      "outputs": [
        {
          "output_type": "stream",
          "text": [
            "Welcome to Python\n"
          ],
          "name": "stdout"
        }
      ]
    },
    {
      "cell_type": "code",
      "metadata": {
        "colab": {
          "base_uri": "https://localhost:8080/"
        },
        "id": "wnKWnI9O0vVs",
        "outputId": "6fcd7156-06a6-4f06-e610-a1eb8eb7108d"
      },
      "source": [
        "print('this is a longer string, so we \\\n",
        "split it over two lines')"
      ],
      "execution_count": null,
      "outputs": [
        {
          "output_type": "stream",
          "text": [
            "this is a longer string, so we split it over two lines\n"
          ],
          "name": "stdout"
        }
      ]
    },
    {
      "cell_type": "code",
      "metadata": {
        "colab": {
          "base_uri": "https://localhost:8080/"
        },
        "id": "E4flF3LI1HcU",
        "outputId": "4a27de67-96fb-40f6-e8b8-422eb1e326bf"
      },
      "source": [
        "print('int(5.2)', 'truncates 5.2 to', int(5.2))"
      ],
      "execution_count": null,
      "outputs": [
        {
          "output_type": "stream",
          "text": [
            "int(5.2) truncates 5.2 to 5\n"
          ],
          "name": "stdout"
        }
      ]
    },
    {
      "cell_type": "code",
      "metadata": {
        "colab": {
          "base_uri": "https://localhost:8080/"
        },
        "id": "UHlKW2F418UM",
        "outputId": "50ba39a2-15a8-4db8-8385-4c9ef961d8f9"
      },
      "source": [
        "print('Display \"hi\" in quotes')"
      ],
      "execution_count": null,
      "outputs": [
        {
          "output_type": "stream",
          "text": [
            "Display \"hi\" in quotes\n"
          ],
          "name": "stdout"
        }
      ]
    },
    {
      "cell_type": "code",
      "metadata": {
        "colab": {
          "base_uri": "https://localhost:8080/"
        },
        "id": "040KPEZU1evE",
        "outputId": "3ac71e5b-2517-4645-963e-f4796bf01c69"
      },
      "source": [
        "import math\n",
        "print((4.95*5.1))\n",
        "print(math.trunc(4.95*5.1))"
      ],
      "execution_count": null,
      "outputs": [
        {
          "output_type": "stream",
          "text": [
            "25.244999999999997\n",
            "25\n"
          ],
          "name": "stdout"
        }
      ]
    },
    {
      "cell_type": "code",
      "metadata": {
        "id": "_5iaXWqw46HN"
      },
      "source": [
        ""
      ],
      "execution_count": null,
      "outputs": []
    },
    {
      "cell_type": "code",
      "metadata": {
        "colab": {
          "base_uri": "https://localhost:8080/"
        },
        "id": "6E6b-6-U2B09",
        "outputId": "7bf92a27-29a9-44e4-8248-f4ede86d37ff"
      },
      "source": [
        "print(\"Display the name O'Brien\")"
      ],
      "execution_count": null,
      "outputs": [
        {
          "output_type": "stream",
          "text": [
            "Display the name O'Brien\n"
          ],
          "name": "stdout"
        }
      ]
    },
    {
      "cell_type": "code",
      "metadata": {
        "colab": {
          "base_uri": "https://localhost:8080/"
        },
        "id": "Cmw_RXRh2Fy0",
        "outputId": "331e4f5c-0503-4fcd-b676-19abb9184f1c"
      },
      "source": [
        "print(\"\"\"Display \"hi\" and 'bye' in quotes\"\"\")"
      ],
      "execution_count": null,
      "outputs": [
        {
          "output_type": "stream",
          "text": [
            "Display \"hi\" and 'bye' in quotes\n"
          ],
          "name": "stdout"
        }
      ]
    },
    {
      "cell_type": "code",
      "metadata": {
        "colab": {
          "base_uri": "https://localhost:8080/"
        },
        "id": "cvoifIpQ2LSE",
        "outputId": "4519c0ce-9ae7-458d-aaf0-122eff026c69"
      },
      "source": [
        "triple_quoted_string = \"\"\"This is a triple-quoted\n",
        "string that spans two lines\"\"\"\n",
        "print(triple_quoted_string)"
      ],
      "execution_count": null,
      "outputs": [
        {
          "output_type": "stream",
          "text": [
            "This is a triple-quoted\n",
            "string that spans two lines\n"
          ],
          "name": "stdout"
        }
      ]
    },
    {
      "cell_type": "code",
      "metadata": {
        "colab": {
          "base_uri": "https://localhost:8080/"
        },
        "id": "UPwerh8d2uDs",
        "outputId": "2c98e8ef-1e3d-4558-f5bc-cc358d6667db"
      },
      "source": [
        "print(\"\"\"This is a lengthy\n",
        "multiline string containing\n",
        "a few lines \\\n",
        "of text\"\"\")\n"
      ],
      "execution_count": null,
      "outputs": [
        {
          "output_type": "stream",
          "text": [
            "This is a lengthy\n",
            "multiline string containing\n",
            "a few lines of text\n"
          ],
          "name": "stdout"
        }
      ]
    },
    {
      "cell_type": "code",
      "metadata": {
        "colab": {
          "base_uri": "https://localhost:8080/"
        },
        "id": "NfNOMocS47Nt",
        "outputId": "f3ff3260-acc4-48f6-d108-0ef636543424"
      },
      "source": [
        "a = 3.4536475856\n",
        "print (\"The value of number till 2 decimal place(using %) is : \",end=\"\")\n",
        "print ('%.2f' %a)\n"
      ],
      "execution_count": null,
      "outputs": [
        {
          "output_type": "stream",
          "text": [
            "The value of number till 2 decimal place(using %) is : 3.45\n"
          ],
          "name": "stdout"
        }
      ]
    },
    {
      "cell_type": "code",
      "metadata": {
        "id": "Wqeyy4ec5PHm"
      },
      "source": [
        "name = input(\"What's your name? \")\n",
        "print(name)"
      ],
      "execution_count": null,
      "outputs": []
    },
    {
      "cell_type": "code",
      "metadata": {
        "colab": {
          "base_uri": "https://localhost:8080/"
        },
        "id": "HEBZPMKA5gil",
        "outputId": "58d00516-29b1-48e2-ecfb-1cd5aa1cacbc"
      },
      "source": [
        "type(name)"
      ],
      "execution_count": null,
      "outputs": [
        {
          "output_type": "execute_result",
          "data": {
            "text/plain": [
              "str"
            ]
          },
          "metadata": {
            "tags": []
          },
          "execution_count": 47
        }
      ]
    },
    {
      "cell_type": "code",
      "metadata": {
        "colab": {
          "base_uri": "https://localhost:8080/"
        },
        "id": "0pmD9mAz53Dd",
        "outputId": "36db788c-2527-4d33-ee61-13c404cf4440"
      },
      "source": [
        "number1 = int(input('Enter first integer: '))\n",
        "number2 = int(input('Enter second integer: '))\n",
        "number3 = int(input('Enter third integer: '))"
      ],
      "execution_count": null,
      "outputs": [
        {
          "output_type": "stream",
          "text": [
            "Enter first integer: 1\n",
            "Enter second integer: 2\n",
            "Enter third integer: 3\n"
          ],
          "name": "stdout"
        }
      ]
    },
    {
      "cell_type": "code",
      "metadata": {
        "colab": {
          "base_uri": "https://localhost:8080/"
        },
        "id": "PWh0h8f56Bm1",
        "outputId": "f865d7dd-ee8a-475d-dc53-6531d4b3b37c"
      },
      "source": [
        "min(number1,number2,number3)"
      ],
      "execution_count": null,
      "outputs": [
        {
          "output_type": "execute_result",
          "data": {
            "text/plain": [
              "1"
            ]
          },
          "metadata": {
            "tags": []
          },
          "execution_count": 49
        }
      ]
    },
    {
      "cell_type": "code",
      "metadata": {
        "colab": {
          "base_uri": "https://localhost:8080/"
        },
        "id": "Mn06jH9J6JB1",
        "outputId": "feedb386-a7fe-46b0-ae4c-6fbd4ecae654"
      },
      "source": [
        "max(number1,number2,number3)"
      ],
      "execution_count": null,
      "outputs": [
        {
          "output_type": "execute_result",
          "data": {
            "text/plain": [
              "3"
            ]
          },
          "metadata": {
            "tags": []
          },
          "execution_count": 50
        }
      ]
    },
    {
      "cell_type": "code",
      "metadata": {
        "colab": {
          "base_uri": "https://localhost:8080/"
        },
        "id": "OPjxugsQjg9w",
        "outputId": "2b310b64-6533-4afa-d130-c61b7e7c739a"
      },
      "source": [
        "grade = 77\n",
        "\n",
        "if grade >= 90: print('A')\n",
        "elif grade >= 80: print('B')\n",
        "elif grade >= 70: print('C')\n",
        "elif grade >= 60: print('D')\n",
        "else:\n",
        " print('F')\n"
      ],
      "execution_count": null,
      "outputs": [
        {
          "output_type": "stream",
          "text": [
            "C\n"
          ],
          "name": "stdout"
        }
      ]
    },
    {
      "cell_type": "code",
      "metadata": {
        "colab": {
          "base_uri": "https://localhost:8080/"
        },
        "id": "MRq8sC1hlF8A",
        "outputId": "9c934c61-daa8-4c71-91aa-1b83886e1e3a"
      },
      "source": [
        "number = 1\n",
        "while(number<10):\n",
        " print(number, end=\" \")\n",
        " number=number+1\n",
        "\n"
      ],
      "execution_count": null,
      "outputs": [
        {
          "output_type": "stream",
          "text": [
            "1 2 3 4 5 6 7 8 9 "
          ],
          "name": "stdout"
        }
      ]
    },
    {
      "cell_type": "code",
      "metadata": {
        "colab": {
          "base_uri": "https://localhost:8080/"
        },
        "id": "HDDI98Qnmru_",
        "outputId": "8979f8e6-cf5e-4bd2-902f-bf12e71ac489"
      },
      "source": [
        "product = 3\n",
        "while product<=50: \n",
        "  product = product*3\n",
        "print(product)\n"
      ],
      "execution_count": null,
      "outputs": [
        {
          "output_type": "stream",
          "text": [
            "81\n"
          ],
          "name": "stdout"
        }
      ]
    },
    {
      "cell_type": "code",
      "metadata": {
        "colab": {
          "base_uri": "https://localhost:8080/"
        },
        "id": "72VKvwu7nIzP",
        "outputId": "c3c78753-047d-4a65-a7ee-a083b785e34d"
      },
      "source": [
        "\n",
        "for number in range(5,10): \n",
        "  print(number, end=\" \")\n"
      ],
      "execution_count": null,
      "outputs": [
        {
          "output_type": "stream",
          "text": [
            "5 6 7 8 9 "
          ],
          "name": "stdout"
        }
      ]
    },
    {
      "cell_type": "code",
      "metadata": {
        "colab": {
          "base_uri": "https://localhost:8080/"
        },
        "id": "sxFuc0bhnRXv",
        "outputId": "dec1ec22-ab1e-4280-c86d-f21478682022"
      },
      "source": [
        "\n",
        "for number in range(10,0,-2): \n",
        "  print(number, end=\" \")\n"
      ],
      "execution_count": null,
      "outputs": [
        {
          "output_type": "stream",
          "text": [
            "10 8 6 4 2 "
          ],
          "name": "stdout"
        }
      ]
    },
    {
      "cell_type": "code",
      "metadata": {
        "colab": {
          "base_uri": "https://localhost:8080/"
        },
        "id": "GnaHAHU1ndXe",
        "outputId": "dd661e1b-0f73-4881-d573-0a4bfe15fe0d"
      },
      "source": [
        "for i in range(1,11): \n",
        "  print(number,\"X\",i,\"=\",number*i)"
      ],
      "execution_count": null,
      "outputs": [
        {
          "output_type": "stream",
          "text": [
            "2 X 1 = 2\n",
            "2 X 2 = 4\n",
            "2 X 3 = 6\n",
            "2 X 4 = 8\n",
            "2 X 5 = 10\n",
            "2 X 6 = 12\n",
            "2 X 7 = 14\n",
            "2 X 8 = 16\n",
            "2 X 9 = 18\n",
            "2 X 10 = 20\n"
          ],
          "name": "stdout"
        }
      ]
    }
  ]
}