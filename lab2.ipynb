{
  "nbformat": 4,
  "nbformat_minor": 0,
  "metadata": {
    "colab": {
      "name": "lab2.ipynb",
      "provenance": [],
      "collapsed_sections": [],
      "authorship_tag": "ABX9TyN1Lhtw74KFJ4JwvXQPancx",
      "include_colab_link": true
    },
    "kernelspec": {
      "name": "python3",
      "display_name": "Python 3"
    },
    "language_info": {
      "name": "python"
    }
  },
  "cells": [
    {
      "cell_type": "markdown",
      "metadata": {
        "id": "view-in-github",
        "colab_type": "text"
      },
      "source": [
        "<a href=\"https://colab.research.google.com/github/Nahidjc/Al_Lab/blob/main/lab2.ipynb\" target=\"_parent\"><img src=\"https://colab.research.google.com/assets/colab-badge.svg\" alt=\"Open In Colab\"/></a>"
      ]
    },
    {
      "cell_type": "code",
      "metadata": {
        "id": "wmFGP9DeJShF"
      },
      "source": [
        "#built-in functions"
      ],
      "execution_count": null,
      "outputs": []
    },
    {
      "cell_type": "code",
      "metadata": {
        "colab": {
          "base_uri": "https://localhost:8080/",
          "height": 69
        },
        "id": "F4t5_F0DJxqh",
        "outputId": "77962a6e-ffcd-45b3-fea4-6067ee1fdd21"
      },
      "source": [
        "print(\"Hi, This is Nahid Hasan . Do you miss me\")\n",
        "input(\"Let me know if you miss me or not. \")"
      ],
      "execution_count": null,
      "outputs": [
        {
          "output_type": "stream",
          "text": [
            "Hi, This is Nahid Hasan . Do you miss me\n",
            "Let me know if you miss me or not. yes\n"
          ],
          "name": "stdout"
        },
        {
          "output_type": "execute_result",
          "data": {
            "application/vnd.google.colaboratory.intrinsic+json": {
              "type": "string"
            },
            "text/plain": [
              "'yes'"
            ]
          },
          "metadata": {
            "tags": []
          },
          "execution_count": 4
        }
      ]
    },
    {
      "cell_type": "code",
      "metadata": {
        "colab": {
          "base_uri": "https://localhost:8080/"
        },
        "id": "vMZwBHa2KLPg",
        "outputId": "f0879465-dfdf-4ad0-cc1c-f801b86d31b2"
      },
      "source": [
        "a = 10\n",
        "b =21\n",
        "print(max(a,b))\n",
        "print(min(a,b))"
      ],
      "execution_count": null,
      "outputs": [
        {
          "output_type": "stream",
          "text": [
            "21\n",
            "10\n"
          ],
          "name": "stdout"
        }
      ]
    },
    {
      "cell_type": "code",
      "metadata": {
        "colab": {
          "base_uri": "https://localhost:8080/"
        },
        "id": "5xKIK3UsMsLS",
        "outputId": "a5bfc03f-505d-4fa4-b798-ecc6e38b21f1"
      },
      "source": [
        "c = 10.4\n",
        "d = int(c)\n",
        "print(d)"
      ],
      "execution_count": null,
      "outputs": [
        {
          "output_type": "stream",
          "text": [
            "10\n"
          ],
          "name": "stdout"
        }
      ]
    },
    {
      "cell_type": "code",
      "metadata": {
        "colab": {
          "base_uri": "https://localhost:8080/"
        },
        "id": "aeG_6iF_N5_6",
        "outputId": "a11f2c5a-4d90-462a-fc7b-fbd471a20653"
      },
      "source": [
        "e = \"python\"\n",
        "print(type(e))"
      ],
      "execution_count": null,
      "outputs": [
        {
          "output_type": "stream",
          "text": [
            "<class 'str'>\n"
          ],
          "name": "stdout"
        }
      ]
    },
    {
      "cell_type": "markdown",
      "metadata": {
        "id": "5GfTmMe4OGJZ"
      },
      "source": [
        "User defined function"
      ]
    },
    {
      "cell_type": "code",
      "metadata": {
        "colab": {
          "base_uri": "https://localhost:8080/"
        },
        "id": "6tuUnyaxOM9h",
        "outputId": "d2348059-320b-4e83-f56d-a5ee42b00753"
      },
      "source": [
        "def sum(a,b):\n",
        "  c = a+b\n",
        "  return c\n",
        "\n",
        "a = int(input(\"Enter a number: \"))\n",
        "b = int(input(\"Enter a number: \"))\n",
        "d = sum(a,b)\n",
        "print(\"The sum is\", d)"
      ],
      "execution_count": null,
      "outputs": [
        {
          "output_type": "stream",
          "text": [
            "Enter a number: 2\n",
            "Enter a number: 4\n",
            "The sum is 6\n"
          ],
          "name": "stdout"
        }
      ]
    },
    {
      "cell_type": "code",
      "metadata": {
        "id": "9b4njzVXPRZz"
      },
      "source": [
        "#function with multiple parameters"
      ],
      "execution_count": null,
      "outputs": []
    },
    {
      "cell_type": "code",
      "metadata": {
        "colab": {
          "base_uri": "https://localhost:8080/"
        },
        "id": "gb5dSNE_SDGD",
        "outputId": "f500666e-82fd-4b10-d275-161759ce8146"
      },
      "source": [
        "def divisior(x,y,m):\n",
        "  if x%m==0 and y%m==0:\n",
        "    print(\"%d & %d are divisible by %d\"%(x,y,m))\n",
        "  elif x%m==0:\n",
        "    print(\"only %d is divisible by %d\"%(x,m))\n",
        "  elif y%m==0:\n",
        "    print(\"only %d is divisible by %d\"%(y,m))\n",
        "  else:\n",
        "    print(\"none of %d & %d is divisible by %d\"%(x,y,d))\n",
        "divisior(10,20,5)\n",
        "divisior(12,20,5)\n",
        "divisior(10,22,5)\n",
        "divisior(2,5,3)"
      ],
      "execution_count": null,
      "outputs": [
        {
          "output_type": "stream",
          "text": [
            "10 & 20 are divisible by 5\n",
            "only 20 is divisible by 5\n",
            "only 10 is divisible by 5\n",
            "none of 2 & 5 is divisible by 6\n"
          ],
          "name": "stdout"
        }
      ]
    },
    {
      "cell_type": "code",
      "metadata": {
        "id": "cg4hGvGaUU7T"
      },
      "source": [
        "##function without paramete"
      ],
      "execution_count": null,
      "outputs": []
    },
    {
      "cell_type": "code",
      "metadata": {
        "colab": {
          "base_uri": "https://localhost:8080/"
        },
        "id": "oX-rfcAbUChj",
        "outputId": "c0f19026-5db9-4408-c9c5-676600564c77"
      },
      "source": [
        "def summation():\n",
        "    a=3+8\n",
        "    return a\n",
        "\n",
        "b=summation()\n",
        "print(b)"
      ],
      "execution_count": null,
      "outputs": [
        {
          "output_type": "stream",
          "text": [
            "11\n"
          ],
          "name": "stdout"
        }
      ]
    },
    {
      "cell_type": "code",
      "metadata": {
        "id": "Dkx2MdftUjO0"
      },
      "source": [
        "#function with default parameter value"
      ],
      "execution_count": null,
      "outputs": []
    },
    {
      "cell_type": "code",
      "metadata": {
        "colab": {
          "base_uri": "https://localhost:8080/"
        },
        "id": "Wq64KtiEUoHs",
        "outputId": "fa6c9ff1-36a5-4cd2-c609-ab7628325186"
      },
      "source": [
        "def check(a=0):\n",
        "    if a==0:\n",
        "        print(\"Zero\")\n",
        "    elif a>0:\n",
        "        print(\"Positive\")\n",
        "    else:\n",
        "        print(\"Negative\")\n",
        "\n",
        "check()    \n",
        "check(-8)\n",
        "check(8)"
      ],
      "execution_count": null,
      "outputs": [
        {
          "output_type": "stream",
          "text": [
            "Zero\n",
            "Negative\n",
            "Positive\n"
          ],
          "name": "stdout"
        }
      ]
    },
    {
      "cell_type": "code",
      "metadata": {
        "colab": {
          "base_uri": "https://localhost:8080/",
          "height": 214
        },
        "id": "Xd5o6RbnU89E",
        "outputId": "6451ecea-ef1d-45a6-ce29-d7815229374c"
      },
      "source": [
        "def local_scope():\n",
        "    x=7\n",
        "    print(x)\n",
        "\n",
        "local_scope()\n",
        "print(x)"
      ],
      "execution_count": null,
      "outputs": [
        {
          "output_type": "stream",
          "text": [
            "7\n"
          ],
          "name": "stdout"
        },
        {
          "output_type": "error",
          "ename": "NameError",
          "evalue": "ignored",
          "traceback": [
            "\u001b[0;31m---------------------------------------------------------------------------\u001b[0m",
            "\u001b[0;31mNameError\u001b[0m                                 Traceback (most recent call last)",
            "\u001b[0;32m<ipython-input-25-15d63c0e104f>\u001b[0m in \u001b[0;36m<module>\u001b[0;34m()\u001b[0m\n\u001b[1;32m      4\u001b[0m \u001b[0;34m\u001b[0m\u001b[0m\n\u001b[1;32m      5\u001b[0m \u001b[0mlocal_scope\u001b[0m\u001b[0;34m(\u001b[0m\u001b[0;34m)\u001b[0m\u001b[0;34m\u001b[0m\u001b[0;34m\u001b[0m\u001b[0m\n\u001b[0;32m----> 6\u001b[0;31m \u001b[0mprint\u001b[0m\u001b[0;34m(\u001b[0m\u001b[0mx\u001b[0m\u001b[0;34m)\u001b[0m\u001b[0;34m\u001b[0m\u001b[0;34m\u001b[0m\u001b[0m\n\u001b[0m",
            "\u001b[0;31mNameError\u001b[0m: name 'x' is not defined"
          ]
        }
      ]
    },
    {
      "cell_type": "code",
      "metadata": {
        "colab": {
          "base_uri": "https://localhost:8080/",
          "height": 214
        },
        "id": "zMdfqf5QVC38",
        "outputId": "08e6986c-05d7-4716-90b9-3c504205a399"
      },
      "source": [
        "def local_scope():\n",
        "    x=7\n",
        "    return x\n",
        "\n",
        "a=local_scope()\n",
        "print(a)\n",
        "print(x)"
      ],
      "execution_count": null,
      "outputs": [
        {
          "output_type": "stream",
          "text": [
            "7\n"
          ],
          "name": "stdout"
        },
        {
          "output_type": "error",
          "ename": "NameError",
          "evalue": "ignored",
          "traceback": [
            "\u001b[0;31m---------------------------------------------------------------------------\u001b[0m",
            "\u001b[0;31mNameError\u001b[0m                                 Traceback (most recent call last)",
            "\u001b[0;32m<ipython-input-26-550507d08972>\u001b[0m in \u001b[0;36m<module>\u001b[0;34m()\u001b[0m\n\u001b[1;32m      5\u001b[0m \u001b[0ma\u001b[0m\u001b[0;34m=\u001b[0m\u001b[0mlocal_scope\u001b[0m\u001b[0;34m(\u001b[0m\u001b[0;34m)\u001b[0m\u001b[0;34m\u001b[0m\u001b[0;34m\u001b[0m\u001b[0m\n\u001b[1;32m      6\u001b[0m \u001b[0mprint\u001b[0m\u001b[0;34m(\u001b[0m\u001b[0ma\u001b[0m\u001b[0;34m)\u001b[0m\u001b[0;34m\u001b[0m\u001b[0;34m\u001b[0m\u001b[0m\n\u001b[0;32m----> 7\u001b[0;31m \u001b[0mprint\u001b[0m\u001b[0;34m(\u001b[0m\u001b[0mx\u001b[0m\u001b[0;34m)\u001b[0m\u001b[0;34m\u001b[0m\u001b[0;34m\u001b[0m\u001b[0m\n\u001b[0m",
            "\u001b[0;31mNameError\u001b[0m: name 'x' is not defined"
          ]
        }
      ]
    },
    {
      "cell_type": "code",
      "metadata": {
        "colab": {
          "base_uri": "https://localhost:8080/"
        },
        "id": "SH3XFnq1VOmD",
        "outputId": "36b32b3e-da78-462c-ddc7-104957d0f547"
      },
      "source": [
        "x=10\n",
        "\n",
        "def global_scope():\n",
        "    print(x)\n",
        "\n",
        "print(x)\n",
        "global_scope()"
      ],
      "execution_count": null,
      "outputs": [
        {
          "output_type": "stream",
          "text": [
            "10\n",
            "10\n"
          ],
          "name": "stdout"
        }
      ]
    },
    {
      "cell_type": "code",
      "metadata": {
        "colab": {
          "base_uri": "https://localhost:8080/"
        },
        "id": "m8mldK03VUX7",
        "outputId": "c5b56012-1dac-4e00-ee3c-56da87c114f9"
      },
      "source": [
        "from google.colab import drive\n",
        "drive.mount('/content/gdrive')\n",
        "\n"
      ],
      "execution_count": null,
      "outputs": [
        {
          "output_type": "stream",
          "text": [
            "Mounted at /content/gdrive\n"
          ],
          "name": "stdout"
        }
      ]
    },
    {
      "cell_type": "code",
      "metadata": {
        "id": "4Fx440pzattG"
      },
      "source": [
        "import pandas as pd\n",
        "dataset = pd.read_csv('gdrive/My Drive/Colab Notebooks/ICCHighscore.csv')"
      ],
      "execution_count": null,
      "outputs": []
    },
    {
      "cell_type": "code",
      "metadata": {
        "colab": {
          "base_uri": "https://localhost:8080/",
          "height": 204
        },
        "id": "GfXiC1jnbuBe",
        "outputId": "4a5fb903-7635-4d87-c346-8b96eb899fa6"
      },
      "source": [
        "dataset.head()"
      ],
      "execution_count": null,
      "outputs": [
        {
          "output_type": "execute_result",
          "data": {
            "text/html": [
              "<div>\n",
              "<style scoped>\n",
              "    .dataframe tbody tr th:only-of-type {\n",
              "        vertical-align: middle;\n",
              "    }\n",
              "\n",
              "    .dataframe tbody tr th {\n",
              "        vertical-align: top;\n",
              "    }\n",
              "\n",
              "    .dataframe thead th {\n",
              "        text-align: right;\n",
              "    }\n",
              "</style>\n",
              "<table border=\"1\" class=\"dataframe\">\n",
              "  <thead>\n",
              "    <tr style=\"text-align: right;\">\n",
              "      <th></th>\n",
              "      <th>Position</th>\n",
              "      <th>Player</th>\n",
              "      <th>Team</th>\n",
              "      <th>HighestScore</th>\n",
              "      <th>Against</th>\n",
              "      <th>Venue</th>\n",
              "      <th>Match Date</th>\n",
              "      <th>Playerdet</th>\n",
              "    </tr>\n",
              "  </thead>\n",
              "  <tbody>\n",
              "    <tr>\n",
              "      <th>0</th>\n",
              "      <td>1</td>\n",
              "      <td>David Warner</td>\n",
              "      <td>AUS</td>\n",
              "      <td>166</td>\n",
              "      <td>BAN</td>\n",
              "      <td>Trent Bridge</td>\n",
              "      <td>20/06/2019</td>\n",
              "      <td>David Warner-166</td>\n",
              "    </tr>\n",
              "    <tr>\n",
              "      <th>1</th>\n",
              "      <td>2</td>\n",
              "      <td>Jason Roy</td>\n",
              "      <td>ENG</td>\n",
              "      <td>153</td>\n",
              "      <td>BAN</td>\n",
              "      <td>Cardiff Wales Stadium</td>\n",
              "      <td>08/06/2019</td>\n",
              "      <td>Jason Roy-153</td>\n",
              "    </tr>\n",
              "    <tr>\n",
              "      <th>2</th>\n",
              "      <td>3</td>\n",
              "      <td>Aaron Finch</td>\n",
              "      <td>AUS</td>\n",
              "      <td>153</td>\n",
              "      <td>SL</td>\n",
              "      <td>The Oval</td>\n",
              "      <td>15/06/2019</td>\n",
              "      <td>Aaron Finch-153</td>\n",
              "    </tr>\n",
              "    <tr>\n",
              "      <th>3</th>\n",
              "      <td>4</td>\n",
              "      <td>Eoin Morgan</td>\n",
              "      <td>ENG</td>\n",
              "      <td>148</td>\n",
              "      <td>AFG</td>\n",
              "      <td>Old Trafford</td>\n",
              "      <td>18/06/2019</td>\n",
              "      <td>Eoin Morgan-148</td>\n",
              "    </tr>\n",
              "    <tr>\n",
              "      <th>4</th>\n",
              "      <td>5</td>\n",
              "      <td>Kane Williamson</td>\n",
              "      <td>NZ</td>\n",
              "      <td>148</td>\n",
              "      <td>WI</td>\n",
              "      <td>Old Trafford</td>\n",
              "      <td>22/06/2019</td>\n",
              "      <td>Kane Williamson-148</td>\n",
              "    </tr>\n",
              "  </tbody>\n",
              "</table>\n",
              "</div>"
            ],
            "text/plain": [
              "   Position           Player  ...  Match Date            Playerdet\n",
              "0         1     David Warner  ...  20/06/2019     David Warner-166\n",
              "1         2        Jason Roy  ...  08/06/2019        Jason Roy-153\n",
              "2         3      Aaron Finch  ...  15/06/2019      Aaron Finch-153\n",
              "3         4      Eoin Morgan  ...  18/06/2019      Eoin Morgan-148\n",
              "4         5  Kane Williamson  ...  22/06/2019  Kane Williamson-148\n",
              "\n",
              "[5 rows x 8 columns]"
            ]
          },
          "metadata": {
            "tags": []
          },
          "execution_count": 38
        }
      ]
    },
    {
      "cell_type": "code",
      "metadata": {
        "colab": {
          "base_uri": "https://localhost:8080/",
          "height": 204
        },
        "id": "ToCzMlySb5QO",
        "outputId": "4b3b016f-e855-4510-ced1-6be34eb1d63c"
      },
      "source": [
        "dataset.tail()"
      ],
      "execution_count": null,
      "outputs": [
        {
          "output_type": "execute_result",
          "data": {
            "text/html": [
              "<div>\n",
              "<style scoped>\n",
              "    .dataframe tbody tr th:only-of-type {\n",
              "        vertical-align: middle;\n",
              "    }\n",
              "\n",
              "    .dataframe tbody tr th {\n",
              "        vertical-align: top;\n",
              "    }\n",
              "\n",
              "    .dataframe thead th {\n",
              "        text-align: right;\n",
              "    }\n",
              "</style>\n",
              "<table border=\"1\" class=\"dataframe\">\n",
              "  <thead>\n",
              "    <tr style=\"text-align: right;\">\n",
              "      <th></th>\n",
              "      <th>Position</th>\n",
              "      <th>Player</th>\n",
              "      <th>Team</th>\n",
              "      <th>HighestScore</th>\n",
              "      <th>Against</th>\n",
              "      <th>Venue</th>\n",
              "      <th>Match Date</th>\n",
              "      <th>Playerdet</th>\n",
              "    </tr>\n",
              "  </thead>\n",
              "  <tbody>\n",
              "    <tr>\n",
              "      <th>45</th>\n",
              "      <td>46</td>\n",
              "      <td>Joe Root</td>\n",
              "      <td>ENG</td>\n",
              "      <td>88</td>\n",
              "      <td>AFG</td>\n",
              "      <td>Old Trafford</td>\n",
              "      <td>18/06/2019</td>\n",
              "      <td>Joe Root-88</td>\n",
              "    </tr>\n",
              "    <tr>\n",
              "      <th>46</th>\n",
              "      <td>47</td>\n",
              "      <td>Usman Khawaja</td>\n",
              "      <td>AUS</td>\n",
              "      <td>88</td>\n",
              "      <td>NZ</td>\n",
              "      <td>Lord's Cricket Ground</td>\n",
              "      <td>29/06/2019</td>\n",
              "      <td>Usman Khawaja-88</td>\n",
              "    </tr>\n",
              "    <tr>\n",
              "      <th>47</th>\n",
              "      <td>48</td>\n",
              "      <td>Chris Gayle</td>\n",
              "      <td>WI</td>\n",
              "      <td>87</td>\n",
              "      <td>NZ</td>\n",
              "      <td>Old Trafford</td>\n",
              "      <td>22/06/2019</td>\n",
              "      <td>Chris Gayle-87</td>\n",
              "    </tr>\n",
              "    <tr>\n",
              "      <th>48</th>\n",
              "      <td>49</td>\n",
              "      <td>Ikram Ali Khil</td>\n",
              "      <td>AFG</td>\n",
              "      <td>86</td>\n",
              "      <td>WI</td>\n",
              "      <td>Headingley</td>\n",
              "      <td>04/07/2019</td>\n",
              "      <td>Ikram Ali Khil-86</td>\n",
              "    </tr>\n",
              "    <tr>\n",
              "      <th>49</th>\n",
              "      <td>50</td>\n",
              "      <td>Angelo Mathews</td>\n",
              "      <td>SL</td>\n",
              "      <td>85*</td>\n",
              "      <td>ENG</td>\n",
              "      <td>Headingley</td>\n",
              "      <td>21/06/2019</td>\n",
              "      <td>Angelo Mathews-85*</td>\n",
              "    </tr>\n",
              "  </tbody>\n",
              "</table>\n",
              "</div>"
            ],
            "text/plain": [
              "    Position          Player  ...  Match Date           Playerdet\n",
              "45        46        Joe Root  ...  18/06/2019         Joe Root-88\n",
              "46        47   Usman Khawaja  ...  29/06/2019    Usman Khawaja-88\n",
              "47        48     Chris Gayle  ...  22/06/2019      Chris Gayle-87\n",
              "48        49  Ikram Ali Khil  ...  04/07/2019   Ikram Ali Khil-86\n",
              "49        50  Angelo Mathews  ...  21/06/2019  Angelo Mathews-85*\n",
              "\n",
              "[5 rows x 8 columns]"
            ]
          },
          "metadata": {
            "tags": []
          },
          "execution_count": 39
        }
      ]
    }
  ]
}