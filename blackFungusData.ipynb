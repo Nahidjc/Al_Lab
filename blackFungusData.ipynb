{
  "nbformat": 4,
  "nbformat_minor": 0,
  "metadata": {
    "colab": {
      "name": "blackFungusData.ipynb",
      "provenance": [],
      "collapsed_sections": [],
      "authorship_tag": "ABX9TyPECxXYJqoMoayO1mWAof9S",
      "include_colab_link": true
    },
    "kernelspec": {
      "name": "python3",
      "display_name": "Python 3"
    },
    "language_info": {
      "name": "python"
    }
  },
  "cells": [
    {
      "cell_type": "markdown",
      "metadata": {
        "id": "view-in-github",
        "colab_type": "text"
      },
      "source": [
        "<a href=\"https://colab.research.google.com/github/Nahidjc/Machine_Learning/blob/main/blackFungusData.ipynb\" target=\"_parent\"><img src=\"https://colab.research.google.com/assets/colab-badge.svg\" alt=\"Open In Colab\"/></a>"
      ]
    },
    {
      "cell_type": "code",
      "metadata": {
        "colab": {
          "base_uri": "https://localhost:8080/"
        },
        "id": "59sWKTnJ4D5O",
        "outputId": "886e968e-b978-4db5-f6f0-70074f773dc6"
      },
      "source": [
        "from google.colab import drive\n",
        "drive.mount('/content/gdrive')\n"
      ],
      "execution_count": 86,
      "outputs": [
        {
          "output_type": "stream",
          "text": [
            "Drive already mounted at /content/gdrive; to attempt to forcibly remount, call drive.mount(\"/content/gdrive\", force_remount=True).\n"
          ],
          "name": "stdout"
        }
      ]
    },
    {
      "cell_type": "code",
      "metadata": {
        "id": "vmCsFQ3a4XS1"
      },
      "source": [
        "\n",
        "import pandas as pd\n",
        "train_dataset = pd.read_csv('gdrive/My Drive/Colab Notebooks/blackFungusData.csv')"
      ],
      "execution_count": 87,
      "outputs": []
    },
    {
      "cell_type": "code",
      "metadata": {
        "colab": {
          "base_uri": "https://localhost:8080/",
          "height": 204
        },
        "id": "yq_0ViCb4y7T",
        "outputId": "86121f89-7e9e-466c-b01a-81ae76ceaecd"
      },
      "source": [
        "train_dataset.head()"
      ],
      "execution_count": 88,
      "outputs": [
        {
          "output_type": "execute_result",
          "data": {
            "text/html": [
              "<div>\n",
              "<style scoped>\n",
              "    .dataframe tbody tr th:only-of-type {\n",
              "        vertical-align: middle;\n",
              "    }\n",
              "\n",
              "    .dataframe tbody tr th {\n",
              "        vertical-align: top;\n",
              "    }\n",
              "\n",
              "    .dataframe thead th {\n",
              "        text-align: right;\n",
              "    }\n",
              "</style>\n",
              "<table border=\"1\" class=\"dataframe\">\n",
              "  <thead>\n",
              "    <tr style=\"text-align: right;\">\n",
              "      <th></th>\n",
              "      <th>Name</th>\n",
              "      <th>Age</th>\n",
              "      <th>Sex</th>\n",
              "      <th>Covid</th>\n",
              "      <th>Diabetes</th>\n",
              "      <th>VisionLost</th>\n",
              "      <th>PainUnderEye</th>\n",
              "      <th>Headache</th>\n",
              "      <th>Fever</th>\n",
              "      <th>SinusConj</th>\n",
              "      <th>BlackFungus</th>\n",
              "    </tr>\n",
              "  </thead>\n",
              "  <tbody>\n",
              "    <tr>\n",
              "      <th>0</th>\n",
              "      <td>Murad</td>\n",
              "      <td>12.0</td>\n",
              "      <td>Male</td>\n",
              "      <td>No</td>\n",
              "      <td>No</td>\n",
              "      <td>Yes</td>\n",
              "      <td>Yes</td>\n",
              "      <td>Yes</td>\n",
              "      <td>Yes</td>\n",
              "      <td>No</td>\n",
              "      <td>No</td>\n",
              "    </tr>\n",
              "    <tr>\n",
              "      <th>1</th>\n",
              "      <td>shivam</td>\n",
              "      <td>12.0</td>\n",
              "      <td>Male</td>\n",
              "      <td>No</td>\n",
              "      <td>No</td>\n",
              "      <td>Yes</td>\n",
              "      <td>Yes</td>\n",
              "      <td>Yes</td>\n",
              "      <td>Yes</td>\n",
              "      <td>No</td>\n",
              "      <td>No</td>\n",
              "    </tr>\n",
              "    <tr>\n",
              "      <th>2</th>\n",
              "      <td>aman soni @ badal</td>\n",
              "      <td>15.0</td>\n",
              "      <td>Male</td>\n",
              "      <td>Yes</td>\n",
              "      <td>No</td>\n",
              "      <td>No</td>\n",
              "      <td>Yes</td>\n",
              "      <td>Yes</td>\n",
              "      <td>Yes</td>\n",
              "      <td>No</td>\n",
              "      <td>No</td>\n",
              "    </tr>\n",
              "    <tr>\n",
              "      <th>3</th>\n",
              "      <td>Apon Dash</td>\n",
              "      <td>15.0</td>\n",
              "      <td>Male</td>\n",
              "      <td>Yes</td>\n",
              "      <td>No</td>\n",
              "      <td>No</td>\n",
              "      <td>Yes</td>\n",
              "      <td>Yes</td>\n",
              "      <td>Yes</td>\n",
              "      <td>No</td>\n",
              "      <td>No</td>\n",
              "    </tr>\n",
              "    <tr>\n",
              "      <th>4</th>\n",
              "      <td>shiv shakti singh</td>\n",
              "      <td>15.0</td>\n",
              "      <td>Male</td>\n",
              "      <td>Yes</td>\n",
              "      <td>No</td>\n",
              "      <td>No</td>\n",
              "      <td>Yes</td>\n",
              "      <td>Yes</td>\n",
              "      <td>Yes</td>\n",
              "      <td>No</td>\n",
              "      <td>No</td>\n",
              "    </tr>\n",
              "  </tbody>\n",
              "</table>\n",
              "</div>"
            ],
            "text/plain": [
              "                Name   Age   Sex Covid  ... Headache Fever SinusConj BlackFungus\n",
              "0              Murad  12.0  Male    No  ...      Yes   Yes        No          No\n",
              "1             shivam  12.0  Male    No  ...      Yes   Yes        No          No\n",
              "2  aman soni @ badal  15.0  Male   Yes  ...      Yes   Yes        No          No\n",
              "3          Apon Dash  15.0  Male   Yes  ...      Yes   Yes        No          No\n",
              "4  shiv shakti singh  15.0  Male   Yes  ...      Yes   Yes        No          No\n",
              "\n",
              "[5 rows x 11 columns]"
            ]
          },
          "metadata": {
            "tags": []
          },
          "execution_count": 88
        }
      ]
    },
    {
      "cell_type": "code",
      "metadata": {
        "colab": {
          "base_uri": "https://localhost:8080/",
          "height": 204
        },
        "id": "Vqw8Oir_43AC",
        "outputId": "1d7d7853-4558-4032-8492-d2cadf903a1f"
      },
      "source": [
        "train_dataset.tail()"
      ],
      "execution_count": 89,
      "outputs": [
        {
          "output_type": "execute_result",
          "data": {
            "text/html": [
              "<div>\n",
              "<style scoped>\n",
              "    .dataframe tbody tr th:only-of-type {\n",
              "        vertical-align: middle;\n",
              "    }\n",
              "\n",
              "    .dataframe tbody tr th {\n",
              "        vertical-align: top;\n",
              "    }\n",
              "\n",
              "    .dataframe thead th {\n",
              "        text-align: right;\n",
              "    }\n",
              "</style>\n",
              "<table border=\"1\" class=\"dataframe\">\n",
              "  <thead>\n",
              "    <tr style=\"text-align: right;\">\n",
              "      <th></th>\n",
              "      <th>Name</th>\n",
              "      <th>Age</th>\n",
              "      <th>Sex</th>\n",
              "      <th>Covid</th>\n",
              "      <th>Diabetes</th>\n",
              "      <th>VisionLost</th>\n",
              "      <th>PainUnderEye</th>\n",
              "      <th>Headache</th>\n",
              "      <th>Fever</th>\n",
              "      <th>SinusConj</th>\n",
              "      <th>BlackFungus</th>\n",
              "    </tr>\n",
              "  </thead>\n",
              "  <tbody>\n",
              "    <tr>\n",
              "      <th>445</th>\n",
              "      <td>rahul kumar</td>\n",
              "      <td>75.0</td>\n",
              "      <td>Male</td>\n",
              "      <td>No</td>\n",
              "      <td>Yes</td>\n",
              "      <td>Yes</td>\n",
              "      <td>No</td>\n",
              "      <td>No</td>\n",
              "      <td>No</td>\n",
              "      <td>No</td>\n",
              "      <td>No</td>\n",
              "    </tr>\n",
              "    <tr>\n",
              "      <th>446</th>\n",
              "      <td>ram dutt gupta</td>\n",
              "      <td>75.0</td>\n",
              "      <td>Male</td>\n",
              "      <td>No</td>\n",
              "      <td>Yes</td>\n",
              "      <td>Yes</td>\n",
              "      <td>No</td>\n",
              "      <td>No</td>\n",
              "      <td>No</td>\n",
              "      <td>No</td>\n",
              "      <td>No</td>\n",
              "    </tr>\n",
              "    <tr>\n",
              "      <th>447</th>\n",
              "      <td>Yeash</td>\n",
              "      <td>75.0</td>\n",
              "      <td>Male</td>\n",
              "      <td>No</td>\n",
              "      <td>Yes</td>\n",
              "      <td>Yes</td>\n",
              "      <td>No</td>\n",
              "      <td>No</td>\n",
              "      <td>No</td>\n",
              "      <td>No</td>\n",
              "      <td>No</td>\n",
              "    </tr>\n",
              "    <tr>\n",
              "      <th>448</th>\n",
              "      <td>Mamun</td>\n",
              "      <td>76.0</td>\n",
              "      <td>Male</td>\n",
              "      <td>Yes</td>\n",
              "      <td>Yes</td>\n",
              "      <td>No</td>\n",
              "      <td>No</td>\n",
              "      <td>No</td>\n",
              "      <td>No</td>\n",
              "      <td>No</td>\n",
              "      <td>No</td>\n",
              "    </tr>\n",
              "    <tr>\n",
              "      <th>449</th>\n",
              "      <td>supriyal sen</td>\n",
              "      <td>76.0</td>\n",
              "      <td>Male</td>\n",
              "      <td>Yes</td>\n",
              "      <td>Yes</td>\n",
              "      <td>No</td>\n",
              "      <td>No</td>\n",
              "      <td>No</td>\n",
              "      <td>No</td>\n",
              "      <td>No</td>\n",
              "      <td>No</td>\n",
              "    </tr>\n",
              "  </tbody>\n",
              "</table>\n",
              "</div>"
            ],
            "text/plain": [
              "               Name   Age   Sex Covid  ... Headache Fever SinusConj BlackFungus\n",
              "445     rahul kumar  75.0  Male    No  ...       No    No        No          No\n",
              "446  ram dutt gupta  75.0  Male    No  ...       No    No        No          No\n",
              "447           Yeash  75.0  Male    No  ...       No    No        No          No\n",
              "448           Mamun  76.0  Male   Yes  ...       No    No        No          No\n",
              "449    supriyal sen  76.0  Male   Yes  ...       No    No        No          No\n",
              "\n",
              "[5 rows x 11 columns]"
            ]
          },
          "metadata": {
            "tags": []
          },
          "execution_count": 89
        }
      ]
    },
    {
      "cell_type": "code",
      "metadata": {
        "colab": {
          "base_uri": "https://localhost:8080/"
        },
        "id": "pdUWZ0r24_p2",
        "outputId": "a0892779-8a88-4e63-ed28-154d5ac10ff4"
      },
      "source": [
        "train_dataset.info()"
      ],
      "execution_count": 90,
      "outputs": [
        {
          "output_type": "stream",
          "text": [
            "<class 'pandas.core.frame.DataFrame'>\n",
            "RangeIndex: 450 entries, 0 to 449\n",
            "Data columns (total 11 columns):\n",
            " #   Column        Non-Null Count  Dtype  \n",
            "---  ------        --------------  -----  \n",
            " 0   Name          450 non-null    object \n",
            " 1   Age           450 non-null    float64\n",
            " 2   Sex           450 non-null    object \n",
            " 3   Covid         450 non-null    object \n",
            " 4   Diabetes      450 non-null    object \n",
            " 5   VisionLost    450 non-null    object \n",
            " 6   PainUnderEye  450 non-null    object \n",
            " 7   Headache      450 non-null    object \n",
            " 8   Fever         450 non-null    object \n",
            " 9   SinusConj     450 non-null    object \n",
            " 10  BlackFungus   450 non-null    object \n",
            "dtypes: float64(1), object(10)\n",
            "memory usage: 38.8+ KB\n"
          ],
          "name": "stdout"
        }
      ]
    },
    {
      "cell_type": "code",
      "metadata": {
        "id": "YibIWjd_5N0M"
      },
      "source": [
        "from matplotlib import pyplot as plt"
      ],
      "execution_count": 91,
      "outputs": []
    },
    {
      "cell_type": "code",
      "metadata": {
        "colab": {
          "base_uri": "https://localhost:8080/"
        },
        "id": "PdNqkaVJ5UdX",
        "outputId": "f4926934-282b-4228-d182-2bad26421faf"
      },
      "source": [
        "train_dataset['BlackFungus'].value_counts()"
      ],
      "execution_count": 92,
      "outputs": [
        {
          "output_type": "execute_result",
          "data": {
            "text/plain": [
              "No     308\n",
              "Yes    142\n",
              "Name: BlackFungus, dtype: int64"
            ]
          },
          "metadata": {
            "tags": []
          },
          "execution_count": 92
        }
      ]
    },
    {
      "cell_type": "code",
      "metadata": {
        "id": "hTHj2cQT5ycr"
      },
      "source": [
        "gender_mapping = {\"Male\":1,\"Female\":0}"
      ],
      "execution_count": 93,
      "outputs": []
    },
    {
      "cell_type": "code",
      "metadata": {
        "id": "UZpkapg36FK7"
      },
      "source": [
        "train_data = [train_dataset]\n",
        "for train in train_data:\n",
        "  train['Sex']=train['Sex'].map(gender_mapping)"
      ],
      "execution_count": 94,
      "outputs": []
    },
    {
      "cell_type": "code",
      "metadata": {
        "colab": {
          "base_uri": "https://localhost:8080/",
          "height": 204
        },
        "id": "BRwU8edr6cZM",
        "outputId": "973a40e9-b5ae-4c7b-9ecc-0ab04db55194"
      },
      "source": [
        "train_dataset.head(5)"
      ],
      "execution_count": 95,
      "outputs": [
        {
          "output_type": "execute_result",
          "data": {
            "text/html": [
              "<div>\n",
              "<style scoped>\n",
              "    .dataframe tbody tr th:only-of-type {\n",
              "        vertical-align: middle;\n",
              "    }\n",
              "\n",
              "    .dataframe tbody tr th {\n",
              "        vertical-align: top;\n",
              "    }\n",
              "\n",
              "    .dataframe thead th {\n",
              "        text-align: right;\n",
              "    }\n",
              "</style>\n",
              "<table border=\"1\" class=\"dataframe\">\n",
              "  <thead>\n",
              "    <tr style=\"text-align: right;\">\n",
              "      <th></th>\n",
              "      <th>Name</th>\n",
              "      <th>Age</th>\n",
              "      <th>Sex</th>\n",
              "      <th>Covid</th>\n",
              "      <th>Diabetes</th>\n",
              "      <th>VisionLost</th>\n",
              "      <th>PainUnderEye</th>\n",
              "      <th>Headache</th>\n",
              "      <th>Fever</th>\n",
              "      <th>SinusConj</th>\n",
              "      <th>BlackFungus</th>\n",
              "    </tr>\n",
              "  </thead>\n",
              "  <tbody>\n",
              "    <tr>\n",
              "      <th>0</th>\n",
              "      <td>Murad</td>\n",
              "      <td>12.0</td>\n",
              "      <td>1</td>\n",
              "      <td>No</td>\n",
              "      <td>No</td>\n",
              "      <td>Yes</td>\n",
              "      <td>Yes</td>\n",
              "      <td>Yes</td>\n",
              "      <td>Yes</td>\n",
              "      <td>No</td>\n",
              "      <td>No</td>\n",
              "    </tr>\n",
              "    <tr>\n",
              "      <th>1</th>\n",
              "      <td>shivam</td>\n",
              "      <td>12.0</td>\n",
              "      <td>1</td>\n",
              "      <td>No</td>\n",
              "      <td>No</td>\n",
              "      <td>Yes</td>\n",
              "      <td>Yes</td>\n",
              "      <td>Yes</td>\n",
              "      <td>Yes</td>\n",
              "      <td>No</td>\n",
              "      <td>No</td>\n",
              "    </tr>\n",
              "    <tr>\n",
              "      <th>2</th>\n",
              "      <td>aman soni @ badal</td>\n",
              "      <td>15.0</td>\n",
              "      <td>1</td>\n",
              "      <td>Yes</td>\n",
              "      <td>No</td>\n",
              "      <td>No</td>\n",
              "      <td>Yes</td>\n",
              "      <td>Yes</td>\n",
              "      <td>Yes</td>\n",
              "      <td>No</td>\n",
              "      <td>No</td>\n",
              "    </tr>\n",
              "    <tr>\n",
              "      <th>3</th>\n",
              "      <td>Apon Dash</td>\n",
              "      <td>15.0</td>\n",
              "      <td>1</td>\n",
              "      <td>Yes</td>\n",
              "      <td>No</td>\n",
              "      <td>No</td>\n",
              "      <td>Yes</td>\n",
              "      <td>Yes</td>\n",
              "      <td>Yes</td>\n",
              "      <td>No</td>\n",
              "      <td>No</td>\n",
              "    </tr>\n",
              "    <tr>\n",
              "      <th>4</th>\n",
              "      <td>shiv shakti singh</td>\n",
              "      <td>15.0</td>\n",
              "      <td>1</td>\n",
              "      <td>Yes</td>\n",
              "      <td>No</td>\n",
              "      <td>No</td>\n",
              "      <td>Yes</td>\n",
              "      <td>Yes</td>\n",
              "      <td>Yes</td>\n",
              "      <td>No</td>\n",
              "      <td>No</td>\n",
              "    </tr>\n",
              "  </tbody>\n",
              "</table>\n",
              "</div>"
            ],
            "text/plain": [
              "                Name   Age  Sex Covid  ... Headache Fever SinusConj BlackFungus\n",
              "0              Murad  12.0    1    No  ...      Yes   Yes        No          No\n",
              "1             shivam  12.0    1    No  ...      Yes   Yes        No          No\n",
              "2  aman soni @ badal  15.0    1   Yes  ...      Yes   Yes        No          No\n",
              "3          Apon Dash  15.0    1   Yes  ...      Yes   Yes        No          No\n",
              "4  shiv shakti singh  15.0    1   Yes  ...      Yes   Yes        No          No\n",
              "\n",
              "[5 rows x 11 columns]"
            ]
          },
          "metadata": {
            "tags": []
          },
          "execution_count": 95
        }
      ]
    },
    {
      "cell_type": "code",
      "metadata": {
        "id": "0MBMHj2373U7"
      },
      "source": [
        "Covid_mapping = {\"Yes\":1,\"No\":0}\n",
        "for train in train_data:\n",
        "  train['Covid']=train['Covid'].map(Covid_mapping)\n"
      ],
      "execution_count": 96,
      "outputs": []
    },
    {
      "cell_type": "code",
      "metadata": {
        "colab": {
          "base_uri": "https://localhost:8080/",
          "height": 204
        },
        "id": "0XHOPHTr8Sf1",
        "outputId": "1ec28ec9-3504-4c03-d909-1ea503048719"
      },
      "source": [
        "train_dataset.head(5)"
      ],
      "execution_count": 97,
      "outputs": [
        {
          "output_type": "execute_result",
          "data": {
            "text/html": [
              "<div>\n",
              "<style scoped>\n",
              "    .dataframe tbody tr th:only-of-type {\n",
              "        vertical-align: middle;\n",
              "    }\n",
              "\n",
              "    .dataframe tbody tr th {\n",
              "        vertical-align: top;\n",
              "    }\n",
              "\n",
              "    .dataframe thead th {\n",
              "        text-align: right;\n",
              "    }\n",
              "</style>\n",
              "<table border=\"1\" class=\"dataframe\">\n",
              "  <thead>\n",
              "    <tr style=\"text-align: right;\">\n",
              "      <th></th>\n",
              "      <th>Name</th>\n",
              "      <th>Age</th>\n",
              "      <th>Sex</th>\n",
              "      <th>Covid</th>\n",
              "      <th>Diabetes</th>\n",
              "      <th>VisionLost</th>\n",
              "      <th>PainUnderEye</th>\n",
              "      <th>Headache</th>\n",
              "      <th>Fever</th>\n",
              "      <th>SinusConj</th>\n",
              "      <th>BlackFungus</th>\n",
              "    </tr>\n",
              "  </thead>\n",
              "  <tbody>\n",
              "    <tr>\n",
              "      <th>0</th>\n",
              "      <td>Murad</td>\n",
              "      <td>12.0</td>\n",
              "      <td>1</td>\n",
              "      <td>0</td>\n",
              "      <td>No</td>\n",
              "      <td>Yes</td>\n",
              "      <td>Yes</td>\n",
              "      <td>Yes</td>\n",
              "      <td>Yes</td>\n",
              "      <td>No</td>\n",
              "      <td>No</td>\n",
              "    </tr>\n",
              "    <tr>\n",
              "      <th>1</th>\n",
              "      <td>shivam</td>\n",
              "      <td>12.0</td>\n",
              "      <td>1</td>\n",
              "      <td>0</td>\n",
              "      <td>No</td>\n",
              "      <td>Yes</td>\n",
              "      <td>Yes</td>\n",
              "      <td>Yes</td>\n",
              "      <td>Yes</td>\n",
              "      <td>No</td>\n",
              "      <td>No</td>\n",
              "    </tr>\n",
              "    <tr>\n",
              "      <th>2</th>\n",
              "      <td>aman soni @ badal</td>\n",
              "      <td>15.0</td>\n",
              "      <td>1</td>\n",
              "      <td>1</td>\n",
              "      <td>No</td>\n",
              "      <td>No</td>\n",
              "      <td>Yes</td>\n",
              "      <td>Yes</td>\n",
              "      <td>Yes</td>\n",
              "      <td>No</td>\n",
              "      <td>No</td>\n",
              "    </tr>\n",
              "    <tr>\n",
              "      <th>3</th>\n",
              "      <td>Apon Dash</td>\n",
              "      <td>15.0</td>\n",
              "      <td>1</td>\n",
              "      <td>1</td>\n",
              "      <td>No</td>\n",
              "      <td>No</td>\n",
              "      <td>Yes</td>\n",
              "      <td>Yes</td>\n",
              "      <td>Yes</td>\n",
              "      <td>No</td>\n",
              "      <td>No</td>\n",
              "    </tr>\n",
              "    <tr>\n",
              "      <th>4</th>\n",
              "      <td>shiv shakti singh</td>\n",
              "      <td>15.0</td>\n",
              "      <td>1</td>\n",
              "      <td>1</td>\n",
              "      <td>No</td>\n",
              "      <td>No</td>\n",
              "      <td>Yes</td>\n",
              "      <td>Yes</td>\n",
              "      <td>Yes</td>\n",
              "      <td>No</td>\n",
              "      <td>No</td>\n",
              "    </tr>\n",
              "  </tbody>\n",
              "</table>\n",
              "</div>"
            ],
            "text/plain": [
              "                Name   Age  Sex  Covid  ... Headache Fever SinusConj BlackFungus\n",
              "0              Murad  12.0    1      0  ...      Yes   Yes        No          No\n",
              "1             shivam  12.0    1      0  ...      Yes   Yes        No          No\n",
              "2  aman soni @ badal  15.0    1      1  ...      Yes   Yes        No          No\n",
              "3          Apon Dash  15.0    1      1  ...      Yes   Yes        No          No\n",
              "4  shiv shakti singh  15.0    1      1  ...      Yes   Yes        No          No\n",
              "\n",
              "[5 rows x 11 columns]"
            ]
          },
          "metadata": {
            "tags": []
          },
          "execution_count": 97
        }
      ]
    },
    {
      "cell_type": "code",
      "metadata": {
        "id": "2xc7FoTg8oIn"
      },
      "source": [
        "train_data = [train_dataset]\n",
        "Diabetes_mapping = {\"Yes\":1,\"No\":0}\n",
        "for train in train_data:\n",
        "  train['Diabetes']=train['Diabetes'].map(Diabetes_mapping)\n"
      ],
      "execution_count": 98,
      "outputs": []
    },
    {
      "cell_type": "code",
      "metadata": {
        "id": "KiRLgeIt9Vsh"
      },
      "source": [
        "train_data = [train_dataset]\n",
        "VisionLost_mapping = {\"Yes\":1,\"No\":0}\n",
        "for train in train_data:\n",
        "  train['VisionLost']=train['VisionLost'].map(VisionLost_mapping)"
      ],
      "execution_count": 99,
      "outputs": []
    },
    {
      "cell_type": "code",
      "metadata": {
        "id": "HIwQ0pLk9iDO"
      },
      "source": [
        "PainUnderEye_mapping = {\"Yes\":1,\"No\":0}\n",
        "for train in train_data:\n",
        "  train['PainUnderEye']=train['PainUnderEye'].map(PainUnderEye_mapping)"
      ],
      "execution_count": 100,
      "outputs": []
    },
    {
      "cell_type": "code",
      "metadata": {
        "colab": {
          "base_uri": "https://localhost:8080/",
          "height": 204
        },
        "id": "ekJRaHiJ9vd7",
        "outputId": "cad30943-be6f-4265-b71d-7d04c9a26365"
      },
      "source": [
        "train_dataset.head(5)"
      ],
      "execution_count": 101,
      "outputs": [
        {
          "output_type": "execute_result",
          "data": {
            "text/html": [
              "<div>\n",
              "<style scoped>\n",
              "    .dataframe tbody tr th:only-of-type {\n",
              "        vertical-align: middle;\n",
              "    }\n",
              "\n",
              "    .dataframe tbody tr th {\n",
              "        vertical-align: top;\n",
              "    }\n",
              "\n",
              "    .dataframe thead th {\n",
              "        text-align: right;\n",
              "    }\n",
              "</style>\n",
              "<table border=\"1\" class=\"dataframe\">\n",
              "  <thead>\n",
              "    <tr style=\"text-align: right;\">\n",
              "      <th></th>\n",
              "      <th>Name</th>\n",
              "      <th>Age</th>\n",
              "      <th>Sex</th>\n",
              "      <th>Covid</th>\n",
              "      <th>Diabetes</th>\n",
              "      <th>VisionLost</th>\n",
              "      <th>PainUnderEye</th>\n",
              "      <th>Headache</th>\n",
              "      <th>Fever</th>\n",
              "      <th>SinusConj</th>\n",
              "      <th>BlackFungus</th>\n",
              "    </tr>\n",
              "  </thead>\n",
              "  <tbody>\n",
              "    <tr>\n",
              "      <th>0</th>\n",
              "      <td>Murad</td>\n",
              "      <td>12.0</td>\n",
              "      <td>1</td>\n",
              "      <td>0</td>\n",
              "      <td>0</td>\n",
              "      <td>1</td>\n",
              "      <td>1</td>\n",
              "      <td>Yes</td>\n",
              "      <td>Yes</td>\n",
              "      <td>No</td>\n",
              "      <td>No</td>\n",
              "    </tr>\n",
              "    <tr>\n",
              "      <th>1</th>\n",
              "      <td>shivam</td>\n",
              "      <td>12.0</td>\n",
              "      <td>1</td>\n",
              "      <td>0</td>\n",
              "      <td>0</td>\n",
              "      <td>1</td>\n",
              "      <td>1</td>\n",
              "      <td>Yes</td>\n",
              "      <td>Yes</td>\n",
              "      <td>No</td>\n",
              "      <td>No</td>\n",
              "    </tr>\n",
              "    <tr>\n",
              "      <th>2</th>\n",
              "      <td>aman soni @ badal</td>\n",
              "      <td>15.0</td>\n",
              "      <td>1</td>\n",
              "      <td>1</td>\n",
              "      <td>0</td>\n",
              "      <td>0</td>\n",
              "      <td>1</td>\n",
              "      <td>Yes</td>\n",
              "      <td>Yes</td>\n",
              "      <td>No</td>\n",
              "      <td>No</td>\n",
              "    </tr>\n",
              "    <tr>\n",
              "      <th>3</th>\n",
              "      <td>Apon Dash</td>\n",
              "      <td>15.0</td>\n",
              "      <td>1</td>\n",
              "      <td>1</td>\n",
              "      <td>0</td>\n",
              "      <td>0</td>\n",
              "      <td>1</td>\n",
              "      <td>Yes</td>\n",
              "      <td>Yes</td>\n",
              "      <td>No</td>\n",
              "      <td>No</td>\n",
              "    </tr>\n",
              "    <tr>\n",
              "      <th>4</th>\n",
              "      <td>shiv shakti singh</td>\n",
              "      <td>15.0</td>\n",
              "      <td>1</td>\n",
              "      <td>1</td>\n",
              "      <td>0</td>\n",
              "      <td>0</td>\n",
              "      <td>1</td>\n",
              "      <td>Yes</td>\n",
              "      <td>Yes</td>\n",
              "      <td>No</td>\n",
              "      <td>No</td>\n",
              "    </tr>\n",
              "  </tbody>\n",
              "</table>\n",
              "</div>"
            ],
            "text/plain": [
              "                Name   Age  Sex  Covid  ...  Headache  Fever  SinusConj BlackFungus\n",
              "0              Murad  12.0    1      0  ...       Yes    Yes         No          No\n",
              "1             shivam  12.0    1      0  ...       Yes    Yes         No          No\n",
              "2  aman soni @ badal  15.0    1      1  ...       Yes    Yes         No          No\n",
              "3          Apon Dash  15.0    1      1  ...       Yes    Yes         No          No\n",
              "4  shiv shakti singh  15.0    1      1  ...       Yes    Yes         No          No\n",
              "\n",
              "[5 rows x 11 columns]"
            ]
          },
          "metadata": {
            "tags": []
          },
          "execution_count": 101
        }
      ]
    },
    {
      "cell_type": "code",
      "metadata": {
        "id": "sbJWDfui9079"
      },
      "source": [
        "Headache_mapping = {\"Yes\":1,\"No\":0}\n",
        "for train in train_data:\n",
        "  train['Headache']=train['Headache'].map(Headache_mapping)"
      ],
      "execution_count": 102,
      "outputs": []
    },
    {
      "cell_type": "code",
      "metadata": {
        "id": "jvgP1dnX98jZ"
      },
      "source": [
        "Fever_mapping = {\"Yes\":1,\"No\":0}\n",
        "for train in train_data:\n",
        "  train['Fever']=train['Fever'].map(Fever_mapping)"
      ],
      "execution_count": 103,
      "outputs": []
    },
    {
      "cell_type": "code",
      "metadata": {
        "id": "AUuB7AB2-FkU"
      },
      "source": [
        "SinusConj_mapping = {\"Yes\":1,\"No\":0}\n",
        "for train in train_data:\n",
        "  train['SinusConj']=train['SinusConj'].map(SinusConj_mapping)"
      ],
      "execution_count": 104,
      "outputs": []
    },
    {
      "cell_type": "code",
      "metadata": {
        "id": "EJMBfLRG-T-T"
      },
      "source": [
        "BlackFungus_mapping = {\"Yes\":1,\"No\":0}\n",
        "for train in train_data:\n",
        "  train['BlackFungus']=train['BlackFungus'].map(BlackFungus_mapping)"
      ],
      "execution_count": 105,
      "outputs": []
    },
    {
      "cell_type": "code",
      "metadata": {
        "colab": {
          "base_uri": "https://localhost:8080/",
          "height": 204
        },
        "id": "R3sn8Gk0Aazs",
        "outputId": "03afbdca-095d-4a42-805d-896a823d100f"
      },
      "source": [
        "train_dataset.head(5)"
      ],
      "execution_count": 106,
      "outputs": [
        {
          "output_type": "execute_result",
          "data": {
            "text/html": [
              "<div>\n",
              "<style scoped>\n",
              "    .dataframe tbody tr th:only-of-type {\n",
              "        vertical-align: middle;\n",
              "    }\n",
              "\n",
              "    .dataframe tbody tr th {\n",
              "        vertical-align: top;\n",
              "    }\n",
              "\n",
              "    .dataframe thead th {\n",
              "        text-align: right;\n",
              "    }\n",
              "</style>\n",
              "<table border=\"1\" class=\"dataframe\">\n",
              "  <thead>\n",
              "    <tr style=\"text-align: right;\">\n",
              "      <th></th>\n",
              "      <th>Name</th>\n",
              "      <th>Age</th>\n",
              "      <th>Sex</th>\n",
              "      <th>Covid</th>\n",
              "      <th>Diabetes</th>\n",
              "      <th>VisionLost</th>\n",
              "      <th>PainUnderEye</th>\n",
              "      <th>Headache</th>\n",
              "      <th>Fever</th>\n",
              "      <th>SinusConj</th>\n",
              "      <th>BlackFungus</th>\n",
              "    </tr>\n",
              "  </thead>\n",
              "  <tbody>\n",
              "    <tr>\n",
              "      <th>0</th>\n",
              "      <td>Murad</td>\n",
              "      <td>12.0</td>\n",
              "      <td>1</td>\n",
              "      <td>0</td>\n",
              "      <td>0</td>\n",
              "      <td>1</td>\n",
              "      <td>1</td>\n",
              "      <td>1</td>\n",
              "      <td>1</td>\n",
              "      <td>0</td>\n",
              "      <td>0</td>\n",
              "    </tr>\n",
              "    <tr>\n",
              "      <th>1</th>\n",
              "      <td>shivam</td>\n",
              "      <td>12.0</td>\n",
              "      <td>1</td>\n",
              "      <td>0</td>\n",
              "      <td>0</td>\n",
              "      <td>1</td>\n",
              "      <td>1</td>\n",
              "      <td>1</td>\n",
              "      <td>1</td>\n",
              "      <td>0</td>\n",
              "      <td>0</td>\n",
              "    </tr>\n",
              "    <tr>\n",
              "      <th>2</th>\n",
              "      <td>aman soni @ badal</td>\n",
              "      <td>15.0</td>\n",
              "      <td>1</td>\n",
              "      <td>1</td>\n",
              "      <td>0</td>\n",
              "      <td>0</td>\n",
              "      <td>1</td>\n",
              "      <td>1</td>\n",
              "      <td>1</td>\n",
              "      <td>0</td>\n",
              "      <td>0</td>\n",
              "    </tr>\n",
              "    <tr>\n",
              "      <th>3</th>\n",
              "      <td>Apon Dash</td>\n",
              "      <td>15.0</td>\n",
              "      <td>1</td>\n",
              "      <td>1</td>\n",
              "      <td>0</td>\n",
              "      <td>0</td>\n",
              "      <td>1</td>\n",
              "      <td>1</td>\n",
              "      <td>1</td>\n",
              "      <td>0</td>\n",
              "      <td>0</td>\n",
              "    </tr>\n",
              "    <tr>\n",
              "      <th>4</th>\n",
              "      <td>shiv shakti singh</td>\n",
              "      <td>15.0</td>\n",
              "      <td>1</td>\n",
              "      <td>1</td>\n",
              "      <td>0</td>\n",
              "      <td>0</td>\n",
              "      <td>1</td>\n",
              "      <td>1</td>\n",
              "      <td>1</td>\n",
              "      <td>0</td>\n",
              "      <td>0</td>\n",
              "    </tr>\n",
              "  </tbody>\n",
              "</table>\n",
              "</div>"
            ],
            "text/plain": [
              "                Name   Age  Sex  Covid  ...  Headache  Fever  SinusConj  BlackFungus\n",
              "0              Murad  12.0    1      0  ...         1      1          0            0\n",
              "1             shivam  12.0    1      0  ...         1      1          0            0\n",
              "2  aman soni @ badal  15.0    1      1  ...         1      1          0            0\n",
              "3          Apon Dash  15.0    1      1  ...         1      1          0            0\n",
              "4  shiv shakti singh  15.0    1      1  ...         1      1          0            0\n",
              "\n",
              "[5 rows x 11 columns]"
            ]
          },
          "metadata": {
            "tags": []
          },
          "execution_count": 106
        }
      ]
    },
    {
      "cell_type": "code",
      "metadata": {
        "id": "rpVZsZBcB7Gy"
      },
      "source": [
        "train_dataset.drop([\"Name\"], axis = 1, inplace = True)"
      ],
      "execution_count": 107,
      "outputs": []
    },
    {
      "cell_type": "code",
      "metadata": {
        "colab": {
          "base_uri": "https://localhost:8080/",
          "height": 204
        },
        "id": "dOcSQYs0CPrq",
        "outputId": "f328c2c4-a705-4e46-8b2f-276a048b3ef3"
      },
      "source": [
        "train_dataset.head(5)"
      ],
      "execution_count": 108,
      "outputs": [
        {
          "output_type": "execute_result",
          "data": {
            "text/html": [
              "<div>\n",
              "<style scoped>\n",
              "    .dataframe tbody tr th:only-of-type {\n",
              "        vertical-align: middle;\n",
              "    }\n",
              "\n",
              "    .dataframe tbody tr th {\n",
              "        vertical-align: top;\n",
              "    }\n",
              "\n",
              "    .dataframe thead th {\n",
              "        text-align: right;\n",
              "    }\n",
              "</style>\n",
              "<table border=\"1\" class=\"dataframe\">\n",
              "  <thead>\n",
              "    <tr style=\"text-align: right;\">\n",
              "      <th></th>\n",
              "      <th>Age</th>\n",
              "      <th>Sex</th>\n",
              "      <th>Covid</th>\n",
              "      <th>Diabetes</th>\n",
              "      <th>VisionLost</th>\n",
              "      <th>PainUnderEye</th>\n",
              "      <th>Headache</th>\n",
              "      <th>Fever</th>\n",
              "      <th>SinusConj</th>\n",
              "      <th>BlackFungus</th>\n",
              "    </tr>\n",
              "  </thead>\n",
              "  <tbody>\n",
              "    <tr>\n",
              "      <th>0</th>\n",
              "      <td>12.0</td>\n",
              "      <td>1</td>\n",
              "      <td>0</td>\n",
              "      <td>0</td>\n",
              "      <td>1</td>\n",
              "      <td>1</td>\n",
              "      <td>1</td>\n",
              "      <td>1</td>\n",
              "      <td>0</td>\n",
              "      <td>0</td>\n",
              "    </tr>\n",
              "    <tr>\n",
              "      <th>1</th>\n",
              "      <td>12.0</td>\n",
              "      <td>1</td>\n",
              "      <td>0</td>\n",
              "      <td>0</td>\n",
              "      <td>1</td>\n",
              "      <td>1</td>\n",
              "      <td>1</td>\n",
              "      <td>1</td>\n",
              "      <td>0</td>\n",
              "      <td>0</td>\n",
              "    </tr>\n",
              "    <tr>\n",
              "      <th>2</th>\n",
              "      <td>15.0</td>\n",
              "      <td>1</td>\n",
              "      <td>1</td>\n",
              "      <td>0</td>\n",
              "      <td>0</td>\n",
              "      <td>1</td>\n",
              "      <td>1</td>\n",
              "      <td>1</td>\n",
              "      <td>0</td>\n",
              "      <td>0</td>\n",
              "    </tr>\n",
              "    <tr>\n",
              "      <th>3</th>\n",
              "      <td>15.0</td>\n",
              "      <td>1</td>\n",
              "      <td>1</td>\n",
              "      <td>0</td>\n",
              "      <td>0</td>\n",
              "      <td>1</td>\n",
              "      <td>1</td>\n",
              "      <td>1</td>\n",
              "      <td>0</td>\n",
              "      <td>0</td>\n",
              "    </tr>\n",
              "    <tr>\n",
              "      <th>4</th>\n",
              "      <td>15.0</td>\n",
              "      <td>1</td>\n",
              "      <td>1</td>\n",
              "      <td>0</td>\n",
              "      <td>0</td>\n",
              "      <td>1</td>\n",
              "      <td>1</td>\n",
              "      <td>1</td>\n",
              "      <td>0</td>\n",
              "      <td>0</td>\n",
              "    </tr>\n",
              "  </tbody>\n",
              "</table>\n",
              "</div>"
            ],
            "text/plain": [
              "    Age  Sex  Covid  Diabetes  ...  Headache  Fever  SinusConj  BlackFungus\n",
              "0  12.0    1      0         0  ...         1      1          0            0\n",
              "1  12.0    1      0         0  ...         1      1          0            0\n",
              "2  15.0    1      1         0  ...         1      1          0            0\n",
              "3  15.0    1      1         0  ...         1      1          0            0\n",
              "4  15.0    1      1         0  ...         1      1          0            0\n",
              "\n",
              "[5 rows x 10 columns]"
            ]
          },
          "metadata": {
            "tags": []
          },
          "execution_count": 108
        }
      ]
    },
    {
      "cell_type": "code",
      "metadata": {
        "id": "q6cKaIflCvgw"
      },
      "source": [
        "def barChart(feature):\n",
        "  blackFungus = train_dataset[train_dataset[\"BlackFungus\"]==1][feature].value_counts()\n",
        "  NotBlackFungus = train_dataset[train_dataset[\"BlackFungus\"]==0][feature].value_counts()\n",
        "  df = pd.DataFrame([blackFungus,NotBlackFungus])\n",
        "  df.index=['BlackFungus','NotBlackFungus']\n",
        "  df.plot(kind='bar', stacked=True,figsize=(10,5))\n"
      ],
      "execution_count": 109,
      "outputs": []
    },
    {
      "cell_type": "code",
      "metadata": {
        "colab": {
          "base_uri": "https://localhost:8080/",
          "height": 390
        },
        "id": "Y93VjBnaDs8K",
        "outputId": "63f63c48-c6d2-4c29-f0e7-b5e4417d06e2"
      },
      "source": [
        "barChart('BlackFungus')"
      ],
      "execution_count": 110,
      "outputs": [
        {
          "output_type": "display_data",
          "data": {
            "image/png": "[encoded data removed]",
            "text/plain": [
              "<Figure size 720x360 with 1 Axes>"
            ]
          },
          "metadata": {
            "tags": [],
            "needs_background": "light"
          }
        }
      ]
    },
    {
      "cell_type": "code",
      "metadata": {
        "colab": {
          "base_uri": "https://localhost:8080/"
        },
        "id": "rNRA1nI3VW84",
        "outputId": "a24615e3-ffee-45f4-87b2-75db01fb5ee2"
      },
      "source": [
        "train_dataset.isnull().sum()"
      ],
      "execution_count": 111,
      "outputs": [
        {
          "output_type": "execute_result",
          "data": {
            "text/plain": [
              "Age             0\n",
              "Sex             0\n",
              "Covid           0\n",
              "Diabetes        0\n",
              "VisionLost      0\n",
              "PainUnderEye    0\n",
              "Headache        0\n",
              "Fever           0\n",
              "SinusConj       0\n",
              "BlackFungus     0\n",
              "dtype: int64"
            ]
          },
          "metadata": {
            "tags": []
          },
          "execution_count": 111
        }
      ]
    },
    {
      "cell_type": "code",
      "metadata": {
        "colab": {
          "base_uri": "https://localhost:8080/"
        },
        "id": "8TmjMHOaVx_j",
        "outputId": "48d6661a-a2f8-45f3-88e2-10ad8d39c8a1"
      },
      "source": [
        "train_data=train.drop('BlackFungus', axis=1)\n",
        "target=train['BlackFungus']\n",
        "train_data.shape,target.shape"
      ],
      "execution_count": 112,
      "outputs": [
        {
          "output_type": "execute_result",
          "data": {
            "text/plain": [
              "((450, 9), (450,))"
            ]
          },
          "metadata": {
            "tags": []
          },
          "execution_count": 112
        }
      ]
    },
    {
      "cell_type": "code",
      "metadata": {
        "colab": {
          "base_uri": "https://localhost:8080/"
        },
        "id": "C2hgy1lpWDE5",
        "outputId": "963d9049-cfac-4896-b92a-6b784735ea68"
      },
      "source": [
        "from sklearn.model_selection import train_test_split\n",
        "x_train , x_test , y_train , y_test = train_test_split (train_data, target, test_size=0.3, random_state=42)\n",
        "print(\"x_train\",x_train.shape)\n",
        "print(\"x_test\",x_test.shape)\n",
        "print(\"y_train\",y_train.shape)\n",
        "print(\"y_test\",y_test.shape)\n",
        "print(y_test)\n",
        "y_test.value_counts()"
      ],
      "execution_count": 113,
      "outputs": [
        {
          "output_type": "stream",
          "text": [
            "x_train (315, 9)\n",
            "x_test (135, 9)\n",
            "y_train (315,)\n",
            "y_test (135,)\n",
            "407    0\n",
            "444    0\n",
            "117    0\n",
            "30     0\n",
            "415    0\n",
            "      ..\n",
            "29     0\n",
            "298    1\n",
            "285    1\n",
            "26     1\n",
            "7      0\n",
            "Name: BlackFungus, Length: 135, dtype: int64\n"
          ],
          "name": "stdout"
        },
        {
          "output_type": "execute_result",
          "data": {
            "text/plain": [
              "0    99\n",
              "1    36\n",
              "Name: BlackFungus, dtype: int64"
            ]
          },
          "metadata": {
            "tags": []
          },
          "execution_count": 113
        }
      ]
    },
    {
      "cell_type": "code",
      "metadata": {
        "colab": {
          "base_uri": "https://localhost:8080/"
        },
        "id": "fhpM7f8jWRNg",
        "outputId": "4669e1d6-58e6-4ebe-83d9-22cfb1356109"
      },
      "source": [
        "train.dtypes"
      ],
      "execution_count": 114,
      "outputs": [
        {
          "output_type": "execute_result",
          "data": {
            "text/plain": [
              "Age             float64\n",
              "Sex               int64\n",
              "Covid             int64\n",
              "Diabetes          int64\n",
              "VisionLost        int64\n",
              "PainUnderEye      int64\n",
              "Headache          int64\n",
              "Fever             int64\n",
              "SinusConj         int64\n",
              "BlackFungus       int64\n",
              "dtype: object"
            ]
          },
          "metadata": {
            "tags": []
          },
          "execution_count": 114
        }
      ]
    },
    {
      "cell_type": "code",
      "metadata": {
        "id": "f5E5jtKRWWBj"
      },
      "source": [
        "train['Age']=train['Age'].astype(int)"
      ],
      "execution_count": 115,
      "outputs": []
    },
    {
      "cell_type": "code",
      "metadata": {
        "colab": {
          "base_uri": "https://localhost:8080/"
        },
        "id": "Q1jV1LNEWacU",
        "outputId": "0d48535d-b0a3-4d51-b36f-a3ac7235144e"
      },
      "source": [
        "train.dtypes"
      ],
      "execution_count": 116,
      "outputs": [
        {
          "output_type": "execute_result",
          "data": {
            "text/plain": [
              "Age             int64\n",
              "Sex             int64\n",
              "Covid           int64\n",
              "Diabetes        int64\n",
              "VisionLost      int64\n",
              "PainUnderEye    int64\n",
              "Headache        int64\n",
              "Fever           int64\n",
              "SinusConj       int64\n",
              "BlackFungus     int64\n",
              "dtype: object"
            ]
          },
          "metadata": {
            "tags": []
          },
          "execution_count": 116
        }
      ]
    },
    {
      "cell_type": "code",
      "metadata": {
        "id": "HDs95sPKWfO2"
      },
      "source": [
        "from sklearn.tree import DecisionTreeClassifier"
      ],
      "execution_count": 117,
      "outputs": []
    },
    {
      "cell_type": "code",
      "metadata": {
        "colab": {
          "base_uri": "https://localhost:8080/"
        },
        "id": "lrGWHfJuWhgP",
        "outputId": "d13855c5-55eb-458a-e99b-49fa9c7c9bda"
      },
      "source": [
        "dt=DecisionTreeClassifier()\n",
        "dt.fit(x_train,y_train)"
      ],
      "execution_count": 118,
      "outputs": [
        {
          "output_type": "execute_result",
          "data": {
            "text/plain": [
              "DecisionTreeClassifier(ccp_alpha=0.0, class_weight=None, criterion='gini',\n",
              "                       max_depth=None, max_features=None, max_leaf_nodes=None,\n",
              "                       min_impurity_decrease=0.0, min_impurity_split=None,\n",
              "                       min_samples_leaf=1, min_samples_split=2,\n",
              "                       min_weight_fraction_leaf=0.0, presort='deprecated',\n",
              "                       random_state=None, splitter='best')"
            ]
          },
          "metadata": {
            "tags": []
          },
          "execution_count": 118
        }
      ]
    },
    {
      "cell_type": "markdown",
      "metadata": {
        "id": "m6FE4o1YgeVT"
      },
      "source": [
        "**Train Dataset score DT**"
      ]
    },
    {
      "cell_type": "code",
      "metadata": {
        "id": "LUTySTsegaoh"
      },
      "source": [
        "dt_train_score = dt.score(x_train,y_train)"
      ],
      "execution_count": 119,
      "outputs": []
    },
    {
      "cell_type": "code",
      "metadata": {
        "colab": {
          "base_uri": "https://localhost:8080/"
        },
        "id": "_2hQI9bZhzb-",
        "outputId": "cd76aa68-f999-4ea2-b662-143f189b4708"
      },
      "source": [
        "print(dt_train_score*100)"
      ],
      "execution_count": 134,
      "outputs": [
        {
          "output_type": "stream",
          "text": [
            "88.57142857142857\n"
          ],
          "name": "stdout"
        }
      ]
    },
    {
      "cell_type": "code",
      "metadata": {
        "id": "uHRhY5FUWktp"
      },
      "source": [
        "y_pred=dt.predict(x_test)"
      ],
      "execution_count": 121,
      "outputs": []
    },
    {
      "cell_type": "code",
      "metadata": {
        "colab": {
          "base_uri": "https://localhost:8080/"
        },
        "id": "BdfOQv2rWpKb",
        "outputId": "8918b0b8-0f08-4d85-d75a-145065fdcc28"
      },
      "source": [
        "from sklearn.metrics import confusion_matrix, classification_report\n",
        "print(confusion_matrix(y_test,y_pred))\n",
        "print(classification_report(y_test,y_pred))"
      ],
      "execution_count": 122,
      "outputs": [
        {
          "output_type": "stream",
          "text": [
            "[[83 16]\n",
            " [19 17]]\n",
            "              precision    recall  f1-score   support\n",
            "\n",
            "           0       0.81      0.84      0.83        99\n",
            "           1       0.52      0.47      0.49        36\n",
            "\n",
            "    accuracy                           0.74       135\n",
            "   macro avg       0.66      0.66      0.66       135\n",
            "weighted avg       0.73      0.74      0.74       135\n",
            "\n"
          ],
          "name": "stdout"
        }
      ]
    },
    {
      "cell_type": "markdown",
      "metadata": {
        "id": "I-7pbaTNgmgd"
      },
      "source": [
        "**Test Dataset score DT**"
      ]
    },
    {
      "cell_type": "code",
      "metadata": {
        "colab": {
          "base_uri": "https://localhost:8080/"
        },
        "id": "VbQ9BgX0fVLd",
        "outputId": "186a1906-15ba-478a-e1a4-cfda57485e59"
      },
      "source": [
        "print(dt.score(x_test,y_test))"
      ],
      "execution_count": 135,
      "outputs": [
        {
          "output_type": "stream",
          "text": [
            "0.7407407407407407\n"
          ],
          "name": "stdout"
        }
      ]
    },
    {
      "cell_type": "code",
      "metadata": {
        "colab": {
          "base_uri": "https://localhost:8080/"
        },
        "id": "4_yQALFqWwEt",
        "outputId": "8a3ebefb-8aa3-4432-ecfe-0ba80f087eb2"
      },
      "source": [
        "from sklearn.metrics import accuracy_score\n",
        "print(accuracy_score(y_test, y_pred)*100)"
      ],
      "execution_count": 123,
      "outputs": [
        {
          "output_type": "stream",
          "text": [
            "74.07407407407408\n"
          ],
          "name": "stdout"
        }
      ]
    },
    {
      "cell_type": "markdown",
      "metadata": {
        "id": "aUd7rLb9ihIQ"
      },
      "source": [
        "# **Decision Tree Classifier Train data and Test Data Accuracy barchart**"
      ]
    },
    {
      "cell_type": "code",
      "metadata": {
        "colab": {
          "base_uri": "https://localhost:8080/",
          "height": 295
        },
        "id": "jazVuUy9hK4G",
        "outputId": "f2dcb781-1591-49be-89fb-06c5b3b04081"
      },
      "source": [
        "DT_x=[\"Train Dataset\",\"Test Dataset\"]\n",
        "DT_y=[dt_train_score*100,accuracy_score(y_test, y_pred)*100]\n",
        "plt.bar(DT_x,DT_y)\n",
        "plt.xlabel(\"Dataset type\")\n",
        "plt.ylabel(\"Accuracy Rate\")\n",
        "plt.title(\"Accuracy visualization of Decision Tree Classifier algorithm\")\n",
        "plt.show()"
      ],
      "execution_count": 124,
      "outputs": [
        {
          "output_type": "display_data",
          "data": {
            "image/png": "[encoded data removed]",
            "text/plain": [
              "<Figure size 432x288 with 1 Axes>"
            ]
          },
          "metadata": {
            "tags": [],
            "needs_background": "light"
          }
        }
      ]
    },
    {
      "cell_type": "code",
      "metadata": {
        "id": "I9sKSvwEWy-G"
      },
      "source": [
        "from sklearn.ensemble import RandomForestClassifier"
      ],
      "execution_count": 125,
      "outputs": []
    },
    {
      "cell_type": "code",
      "metadata": {
        "colab": {
          "base_uri": "https://localhost:8080/"
        },
        "id": "CiOcHaqHW1V3",
        "outputId": "40fd7d33-e73d-42e4-8a36-ee12db615951"
      },
      "source": [
        "rf=RandomForestClassifier()\n",
        "rf.fit(x_train,y_train)"
      ],
      "execution_count": 126,
      "outputs": [
        {
          "output_type": "execute_result",
          "data": {
            "text/plain": [
              "RandomForestClassifier(bootstrap=True, ccp_alpha=0.0, class_weight=None,\n",
              "                       criterion='gini', max_depth=None, max_features='auto',\n",
              "                       max_leaf_nodes=None, max_samples=None,\n",
              "                       min_impurity_decrease=0.0, min_impurity_split=None,\n",
              "                       min_samples_leaf=1, min_samples_split=2,\n",
              "                       min_weight_fraction_leaf=0.0, n_estimators=100,\n",
              "                       n_jobs=None, oob_score=False, random_state=None,\n",
              "                       verbose=0, warm_start=False)"
            ]
          },
          "metadata": {
            "tags": []
          },
          "execution_count": 126
        }
      ]
    },
    {
      "cell_type": "markdown",
      "metadata": {
        "id": "g5nhf3Pzi4zh"
      },
      "source": [
        "# **Train Dataset score Random Forest**"
      ]
    },
    {
      "cell_type": "code",
      "metadata": {
        "id": "OaQlJRnajKCg"
      },
      "source": [
        "dt_train_score = rf.score(x_train,y_train)"
      ],
      "execution_count": 127,
      "outputs": []
    },
    {
      "cell_type": "code",
      "metadata": {
        "colab": {
          "base_uri": "https://localhost:8080/"
        },
        "id": "W91I-aYugEj_",
        "outputId": "57a6f27d-accc-4a9c-b065-d3f8f65a3d80"
      },
      "source": [
        "print(dt_train_score)"
      ],
      "execution_count": 128,
      "outputs": [
        {
          "output_type": "stream",
          "text": [
            "0.8857142857142857\n"
          ],
          "name": "stdout"
        }
      ]
    },
    {
      "cell_type": "markdown",
      "metadata": {
        "id": "4bhKLQMijGnH"
      },
      "source": [
        "# **Train Dataset score Random Forest**"
      ]
    },
    {
      "cell_type": "code",
      "metadata": {
        "id": "RUoPHIPVgN-8"
      },
      "source": [
        "dt_test_score = rf.score(x_test,y_test)"
      ],
      "execution_count": 129,
      "outputs": []
    },
    {
      "cell_type": "code",
      "metadata": {
        "colab": {
          "base_uri": "https://localhost:8080/"
        },
        "id": "v1HGnz4gje4a",
        "outputId": "9f947085-54b0-4b07-e764-41ae08cd22c7"
      },
      "source": [
        "print(dt_test_score)"
      ],
      "execution_count": 130,
      "outputs": [
        {
          "output_type": "stream",
          "text": [
            "0.7555555555555555\n"
          ],
          "name": "stdout"
        }
      ]
    },
    {
      "cell_type": "code",
      "metadata": {
        "id": "svaeMKPrW5y5"
      },
      "source": [
        "y_pred=rf.predict(x_test)"
      ],
      "execution_count": 131,
      "outputs": []
    },
    {
      "cell_type": "code",
      "metadata": {
        "colab": {
          "base_uri": "https://localhost:8080/"
        },
        "id": "eNqWC0AJW71x",
        "outputId": "919d8655-3345-4dc8-a711-45452e1f9b5b"
      },
      "source": [
        "from sklearn.metrics import accuracy_score\n",
        "print(accuracy_score(y_test, y_pred)*100)"
      ],
      "execution_count": 132,
      "outputs": [
        {
          "output_type": "stream",
          "text": [
            "75.55555555555556\n"
          ],
          "name": "stdout"
        }
      ]
    },
    {
      "cell_type": "markdown",
      "metadata": {
        "id": "5sz_99LqkQVu"
      },
      "source": [
        "# **Random Forest Algorithm Train data and Test Data Accuracy barchart**"
      ]
    },
    {
      "cell_type": "code",
      "metadata": {
        "colab": {
          "base_uri": "https://localhost:8080/",
          "height": 295
        },
        "id": "ezG1fLf3e8ob",
        "outputId": "4c0a0e45-3aa0-4120-8f27-d42f3bbb899f"
      },
      "source": [
        "RF_x=[\"Train Dataset\",\"Test Dataset\"]\n",
        "RF_y=[dt_train_score*100,dt_test_score*100]\n",
        "plt.bar(RF_x,RF_y)\n",
        "plt.xlabel(\"Dataset type\")\n",
        "plt.ylabel(\"Accuracy Rate\")\n",
        "plt.title(\"Accuracy visualization of Random Forest algorithm\")\n",
        "plt.show()"
      ],
      "execution_count": 133,
      "outputs": [
        {
          "output_type": "display_data",
          "data": {
            "image/png": "[encoded data removed]",
            "text/plain": [
              "<Figure size 432x288 with 1 Axes>"
            ]
          },
          "metadata": {
            "tags": [],
            "needs_background": "light"
          }
        }
      ]
    }
  ]
}