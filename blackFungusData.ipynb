{
  "nbformat": 4,
  "nbformat_minor": 0,
  "metadata": {
    "colab": {
      "name": "blackFungusData.ipynb",
      "provenance": [],
      "collapsed_sections": [],
      "authorship_tag": "ABX9TyNkUy5r1VGTojZy7bYP7Hh9",
      "include_colab_link": true
    },
    "kernelspec": {
      "name": "python3",
      "display_name": "Python 3"
    },
    "language_info": {
      "name": "python"
    }
  },
  "cells": [
    {
      "cell_type": "markdown",
      "metadata": {
        "id": "view-in-github",
        "colab_type": "text"
      },
      "source": [
        "<a href=\"https://colab.research.google.com/github/Nahidjc/Machine_Learning/blob/main/blackFungusData.ipynb\" target=\"_parent\"><img src=\"https://colab.research.google.com/assets/colab-badge.svg\" alt=\"Open In Colab\"/></a>"
      ]
    },
    {
      "cell_type": "code",
      "metadata": {
        "colab": {
          "base_uri": "https://localhost:8080/"
        },
        "id": "59sWKTnJ4D5O",
        "outputId": "febd4604-04f1-4f3d-dd79-69b565b5581d"
      },
      "source": [
        "from google.colab import drive\n",
        "drive.mount('/content/gdrive')\n"
      ],
      "execution_count": null,
      "outputs": [
        {
          "output_type": "stream",
          "text": [
            "Drive already mounted at /content/gdrive; to attempt to forcibly remount, call drive.mount(\"/content/gdrive\", force_remount=True).\n"
          ],
          "name": "stdout"
        }
      ]
    },
    {
      "cell_type": "code",
      "metadata": {
        "id": "vmCsFQ3a4XS1"
      },
      "source": [
        "\n",
        "import pandas as pd\n",
        "train_dataset = pd.read_csv('gdrive/My Drive/Colab Notebooks/blackFungusData.csv')"
      ],
      "execution_count": null,
      "outputs": []
    },
    {
      "cell_type": "code",
      "metadata": {
        "colab": {
          "base_uri": "https://localhost:8080/",
          "height": 204
        },
        "id": "yq_0ViCb4y7T",
        "outputId": "a131d2f0-f15f-471f-a994-88d2b391b989"
      },
      "source": [
        "train_dataset.head()"
      ],
      "execution_count": null,
      "outputs": [
        {
          "output_type": "execute_result",
          "data": {
            "text/html": [
              "<div>\n",
              "<style scoped>\n",
              "    .dataframe tbody tr th:only-of-type {\n",
              "        vertical-align: middle;\n",
              "    }\n",
              "\n",
              "    .dataframe tbody tr th {\n",
              "        vertical-align: top;\n",
              "    }\n",
              "\n",
              "    .dataframe thead th {\n",
              "        text-align: right;\n",
              "    }\n",
              "</style>\n",
              "<table border=\"1\" class=\"dataframe\">\n",
              "  <thead>\n",
              "    <tr style=\"text-align: right;\">\n",
              "      <th></th>\n",
              "      <th>Name</th>\n",
              "      <th>Age</th>\n",
              "      <th>Sex</th>\n",
              "      <th>Covid</th>\n",
              "      <th>Diabetes</th>\n",
              "      <th>VisionLost</th>\n",
              "      <th>PainUnderEye</th>\n",
              "      <th>Headache</th>\n",
              "      <th>Fever</th>\n",
              "      <th>SinusConj</th>\n",
              "      <th>BlackFungus</th>\n",
              "    </tr>\n",
              "  </thead>\n",
              "  <tbody>\n",
              "    <tr>\n",
              "      <th>0</th>\n",
              "      <td>Murad</td>\n",
              "      <td>12.0</td>\n",
              "      <td>Male</td>\n",
              "      <td>No</td>\n",
              "      <td>No</td>\n",
              "      <td>Yes</td>\n",
              "      <td>Yes</td>\n",
              "      <td>Yes</td>\n",
              "      <td>Yes</td>\n",
              "      <td>No</td>\n",
              "      <td>No</td>\n",
              "    </tr>\n",
              "    <tr>\n",
              "      <th>1</th>\n",
              "      <td>shivam</td>\n",
              "      <td>12.0</td>\n",
              "      <td>Male</td>\n",
              "      <td>No</td>\n",
              "      <td>No</td>\n",
              "      <td>Yes</td>\n",
              "      <td>Yes</td>\n",
              "      <td>Yes</td>\n",
              "      <td>Yes</td>\n",
              "      <td>No</td>\n",
              "      <td>No</td>\n",
              "    </tr>\n",
              "    <tr>\n",
              "      <th>2</th>\n",
              "      <td>aman soni @ badal</td>\n",
              "      <td>15.0</td>\n",
              "      <td>Male</td>\n",
              "      <td>Yes</td>\n",
              "      <td>No</td>\n",
              "      <td>No</td>\n",
              "      <td>Yes</td>\n",
              "      <td>Yes</td>\n",
              "      <td>Yes</td>\n",
              "      <td>No</td>\n",
              "      <td>No</td>\n",
              "    </tr>\n",
              "    <tr>\n",
              "      <th>3</th>\n",
              "      <td>Apon Dash</td>\n",
              "      <td>15.0</td>\n",
              "      <td>Male</td>\n",
              "      <td>Yes</td>\n",
              "      <td>No</td>\n",
              "      <td>No</td>\n",
              "      <td>Yes</td>\n",
              "      <td>Yes</td>\n",
              "      <td>Yes</td>\n",
              "      <td>No</td>\n",
              "      <td>No</td>\n",
              "    </tr>\n",
              "    <tr>\n",
              "      <th>4</th>\n",
              "      <td>shiv shakti singh</td>\n",
              "      <td>15.0</td>\n",
              "      <td>Male</td>\n",
              "      <td>Yes</td>\n",
              "      <td>No</td>\n",
              "      <td>No</td>\n",
              "      <td>Yes</td>\n",
              "      <td>Yes</td>\n",
              "      <td>Yes</td>\n",
              "      <td>No</td>\n",
              "      <td>No</td>\n",
              "    </tr>\n",
              "  </tbody>\n",
              "</table>\n",
              "</div>"
            ],
            "text/plain": [
              "                Name   Age   Sex Covid  ... Headache Fever SinusConj BlackFungus\n",
              "0              Murad  12.0  Male    No  ...      Yes   Yes        No          No\n",
              "1             shivam  12.0  Male    No  ...      Yes   Yes        No          No\n",
              "2  aman soni @ badal  15.0  Male   Yes  ...      Yes   Yes        No          No\n",
              "3          Apon Dash  15.0  Male   Yes  ...      Yes   Yes        No          No\n",
              "4  shiv shakti singh  15.0  Male   Yes  ...      Yes   Yes        No          No\n",
              "\n",
              "[5 rows x 11 columns]"
            ]
          },
          "metadata": {
            "tags": []
          },
          "execution_count": 81
        }
      ]
    },
    {
      "cell_type": "code",
      "metadata": {
        "colab": {
          "base_uri": "https://localhost:8080/",
          "height": 204
        },
        "id": "Vqw8Oir_43AC",
        "outputId": "95bbb172-3e08-412d-ccae-5c5830230912"
      },
      "source": [
        "train_dataset.tail()"
      ],
      "execution_count": null,
      "outputs": [
        {
          "output_type": "execute_result",
          "data": {
            "text/html": [
              "<div>\n",
              "<style scoped>\n",
              "    .dataframe tbody tr th:only-of-type {\n",
              "        vertical-align: middle;\n",
              "    }\n",
              "\n",
              "    .dataframe tbody tr th {\n",
              "        vertical-align: top;\n",
              "    }\n",
              "\n",
              "    .dataframe thead th {\n",
              "        text-align: right;\n",
              "    }\n",
              "</style>\n",
              "<table border=\"1\" class=\"dataframe\">\n",
              "  <thead>\n",
              "    <tr style=\"text-align: right;\">\n",
              "      <th></th>\n",
              "      <th>Name</th>\n",
              "      <th>Age</th>\n",
              "      <th>Sex</th>\n",
              "      <th>Covid</th>\n",
              "      <th>Diabetes</th>\n",
              "      <th>VisionLost</th>\n",
              "      <th>PainUnderEye</th>\n",
              "      <th>Headache</th>\n",
              "      <th>Fever</th>\n",
              "      <th>SinusConj</th>\n",
              "      <th>BlackFungus</th>\n",
              "    </tr>\n",
              "  </thead>\n",
              "  <tbody>\n",
              "    <tr>\n",
              "      <th>445</th>\n",
              "      <td>rahul kumar</td>\n",
              "      <td>75.0</td>\n",
              "      <td>Male</td>\n",
              "      <td>No</td>\n",
              "      <td>Yes</td>\n",
              "      <td>Yes</td>\n",
              "      <td>No</td>\n",
              "      <td>No</td>\n",
              "      <td>No</td>\n",
              "      <td>No</td>\n",
              "      <td>No</td>\n",
              "    </tr>\n",
              "    <tr>\n",
              "      <th>446</th>\n",
              "      <td>ram dutt gupta</td>\n",
              "      <td>75.0</td>\n",
              "      <td>Male</td>\n",
              "      <td>No</td>\n",
              "      <td>Yes</td>\n",
              "      <td>Yes</td>\n",
              "      <td>No</td>\n",
              "      <td>No</td>\n",
              "      <td>No</td>\n",
              "      <td>No</td>\n",
              "      <td>No</td>\n",
              "    </tr>\n",
              "    <tr>\n",
              "      <th>447</th>\n",
              "      <td>Yeash</td>\n",
              "      <td>75.0</td>\n",
              "      <td>Male</td>\n",
              "      <td>No</td>\n",
              "      <td>Yes</td>\n",
              "      <td>Yes</td>\n",
              "      <td>No</td>\n",
              "      <td>No</td>\n",
              "      <td>No</td>\n",
              "      <td>No</td>\n",
              "      <td>No</td>\n",
              "    </tr>\n",
              "    <tr>\n",
              "      <th>448</th>\n",
              "      <td>Mamun</td>\n",
              "      <td>76.0</td>\n",
              "      <td>Male</td>\n",
              "      <td>Yes</td>\n",
              "      <td>Yes</td>\n",
              "      <td>No</td>\n",
              "      <td>No</td>\n",
              "      <td>No</td>\n",
              "      <td>No</td>\n",
              "      <td>No</td>\n",
              "      <td>No</td>\n",
              "    </tr>\n",
              "    <tr>\n",
              "      <th>449</th>\n",
              "      <td>supriyal sen</td>\n",
              "      <td>76.0</td>\n",
              "      <td>Male</td>\n",
              "      <td>Yes</td>\n",
              "      <td>Yes</td>\n",
              "      <td>No</td>\n",
              "      <td>No</td>\n",
              "      <td>No</td>\n",
              "      <td>No</td>\n",
              "      <td>No</td>\n",
              "      <td>No</td>\n",
              "    </tr>\n",
              "  </tbody>\n",
              "</table>\n",
              "</div>"
            ],
            "text/plain": [
              "               Name   Age   Sex Covid  ... Headache Fever SinusConj BlackFungus\n",
              "445     rahul kumar  75.0  Male    No  ...       No    No        No          No\n",
              "446  ram dutt gupta  75.0  Male    No  ...       No    No        No          No\n",
              "447           Yeash  75.0  Male    No  ...       No    No        No          No\n",
              "448           Mamun  76.0  Male   Yes  ...       No    No        No          No\n",
              "449    supriyal sen  76.0  Male   Yes  ...       No    No        No          No\n",
              "\n",
              "[5 rows x 11 columns]"
            ]
          },
          "metadata": {
            "tags": []
          },
          "execution_count": 82
        }
      ]
    },
    {
      "cell_type": "code",
      "metadata": {
        "colab": {
          "base_uri": "https://localhost:8080/"
        },
        "id": "pdUWZ0r24_p2",
        "outputId": "699eb923-6169-4100-b222-4424118c76fb"
      },
      "source": [
        "train_dataset.info()"
      ],
      "execution_count": null,
      "outputs": [
        {
          "output_type": "stream",
          "text": [
            "<class 'pandas.core.frame.DataFrame'>\n",
            "RangeIndex: 450 entries, 0 to 449\n",
            "Data columns (total 11 columns):\n",
            " #   Column        Non-Null Count  Dtype  \n",
            "---  ------        --------------  -----  \n",
            " 0   Name          450 non-null    object \n",
            " 1   Age           450 non-null    float64\n",
            " 2   Sex           450 non-null    object \n",
            " 3   Covid         450 non-null    object \n",
            " 4   Diabetes      450 non-null    object \n",
            " 5   VisionLost    450 non-null    object \n",
            " 6   PainUnderEye  450 non-null    object \n",
            " 7   Headache      450 non-null    object \n",
            " 8   Fever         450 non-null    object \n",
            " 9   SinusConj     450 non-null    object \n",
            " 10  BlackFungus   450 non-null    object \n",
            "dtypes: float64(1), object(10)\n",
            "memory usage: 38.8+ KB\n"
          ],
          "name": "stdout"
        }
      ]
    },
    {
      "cell_type": "code",
      "metadata": {
        "id": "YibIWjd_5N0M"
      },
      "source": [
        "from matplotlib import pyplot as plt"
      ],
      "execution_count": null,
      "outputs": []
    },
    {
      "cell_type": "code",
      "metadata": {
        "colab": {
          "base_uri": "https://localhost:8080/"
        },
        "id": "PdNqkaVJ5UdX",
        "outputId": "14e6d9ca-17b8-411f-ffe0-68bacfe9451d"
      },
      "source": [
        "train_dataset['BlackFungus'].value_counts()"
      ],
      "execution_count": null,
      "outputs": [
        {
          "output_type": "execute_result",
          "data": {
            "text/plain": [
              "No     308\n",
              "Yes    142\n",
              "Name: BlackFungus, dtype: int64"
            ]
          },
          "metadata": {
            "tags": []
          },
          "execution_count": 85
        }
      ]
    },
    {
      "cell_type": "code",
      "metadata": {
        "id": "hTHj2cQT5ycr"
      },
      "source": [
        "gender_mapping = {\"Male\":1,\"Female\":0}"
      ],
      "execution_count": null,
      "outputs": []
    },
    {
      "cell_type": "code",
      "metadata": {
        "id": "UZpkapg36FK7"
      },
      "source": [
        "train_data = [train_dataset]\n",
        "for train in train_data:\n",
        "  train['Sex']=train['Sex'].map(gender_mapping)"
      ],
      "execution_count": null,
      "outputs": []
    },
    {
      "cell_type": "code",
      "metadata": {
        "colab": {
          "base_uri": "https://localhost:8080/",
          "height": 204
        },
        "id": "BRwU8edr6cZM",
        "outputId": "2bf65ff1-6725-454c-b18b-88b6710c1592"
      },
      "source": [
        "train_dataset.head(5)"
      ],
      "execution_count": null,
      "outputs": [
        {
          "output_type": "execute_result",
          "data": {
            "text/html": [
              "<div>\n",
              "<style scoped>\n",
              "    .dataframe tbody tr th:only-of-type {\n",
              "        vertical-align: middle;\n",
              "    }\n",
              "\n",
              "    .dataframe tbody tr th {\n",
              "        vertical-align: top;\n",
              "    }\n",
              "\n",
              "    .dataframe thead th {\n",
              "        text-align: right;\n",
              "    }\n",
              "</style>\n",
              "<table border=\"1\" class=\"dataframe\">\n",
              "  <thead>\n",
              "    <tr style=\"text-align: right;\">\n",
              "      <th></th>\n",
              "      <th>Name</th>\n",
              "      <th>Age</th>\n",
              "      <th>Sex</th>\n",
              "      <th>Covid</th>\n",
              "      <th>Diabetes</th>\n",
              "      <th>VisionLost</th>\n",
              "      <th>PainUnderEye</th>\n",
              "      <th>Headache</th>\n",
              "      <th>Fever</th>\n",
              "      <th>SinusConj</th>\n",
              "      <th>BlackFungus</th>\n",
              "    </tr>\n",
              "  </thead>\n",
              "  <tbody>\n",
              "    <tr>\n",
              "      <th>0</th>\n",
              "      <td>Murad</td>\n",
              "      <td>12.0</td>\n",
              "      <td>1</td>\n",
              "      <td>No</td>\n",
              "      <td>No</td>\n",
              "      <td>Yes</td>\n",
              "      <td>Yes</td>\n",
              "      <td>Yes</td>\n",
              "      <td>Yes</td>\n",
              "      <td>No</td>\n",
              "      <td>No</td>\n",
              "    </tr>\n",
              "    <tr>\n",
              "      <th>1</th>\n",
              "      <td>shivam</td>\n",
              "      <td>12.0</td>\n",
              "      <td>1</td>\n",
              "      <td>No</td>\n",
              "      <td>No</td>\n",
              "      <td>Yes</td>\n",
              "      <td>Yes</td>\n",
              "      <td>Yes</td>\n",
              "      <td>Yes</td>\n",
              "      <td>No</td>\n",
              "      <td>No</td>\n",
              "    </tr>\n",
              "    <tr>\n",
              "      <th>2</th>\n",
              "      <td>aman soni @ badal</td>\n",
              "      <td>15.0</td>\n",
              "      <td>1</td>\n",
              "      <td>Yes</td>\n",
              "      <td>No</td>\n",
              "      <td>No</td>\n",
              "      <td>Yes</td>\n",
              "      <td>Yes</td>\n",
              "      <td>Yes</td>\n",
              "      <td>No</td>\n",
              "      <td>No</td>\n",
              "    </tr>\n",
              "    <tr>\n",
              "      <th>3</th>\n",
              "      <td>Apon Dash</td>\n",
              "      <td>15.0</td>\n",
              "      <td>1</td>\n",
              "      <td>Yes</td>\n",
              "      <td>No</td>\n",
              "      <td>No</td>\n",
              "      <td>Yes</td>\n",
              "      <td>Yes</td>\n",
              "      <td>Yes</td>\n",
              "      <td>No</td>\n",
              "      <td>No</td>\n",
              "    </tr>\n",
              "    <tr>\n",
              "      <th>4</th>\n",
              "      <td>shiv shakti singh</td>\n",
              "      <td>15.0</td>\n",
              "      <td>1</td>\n",
              "      <td>Yes</td>\n",
              "      <td>No</td>\n",
              "      <td>No</td>\n",
              "      <td>Yes</td>\n",
              "      <td>Yes</td>\n",
              "      <td>Yes</td>\n",
              "      <td>No</td>\n",
              "      <td>No</td>\n",
              "    </tr>\n",
              "  </tbody>\n",
              "</table>\n",
              "</div>"
            ],
            "text/plain": [
              "                Name   Age  Sex Covid  ... Headache Fever SinusConj BlackFungus\n",
              "0              Murad  12.0    1    No  ...      Yes   Yes        No          No\n",
              "1             shivam  12.0    1    No  ...      Yes   Yes        No          No\n",
              "2  aman soni @ badal  15.0    1   Yes  ...      Yes   Yes        No          No\n",
              "3          Apon Dash  15.0    1   Yes  ...      Yes   Yes        No          No\n",
              "4  shiv shakti singh  15.0    1   Yes  ...      Yes   Yes        No          No\n",
              "\n",
              "[5 rows x 11 columns]"
            ]
          },
          "metadata": {
            "tags": []
          },
          "execution_count": 88
        }
      ]
    },
    {
      "cell_type": "code",
      "metadata": {
        "id": "0MBMHj2373U7"
      },
      "source": [
        "Covid_mapping = {\"Yes\":1,\"No\":0}\n",
        "for train in train_data:\n",
        "  train['Covid']=train['Covid'].map(Covid_mapping)\n"
      ],
      "execution_count": null,
      "outputs": []
    },
    {
      "cell_type": "code",
      "metadata": {
        "colab": {
          "base_uri": "https://localhost:8080/",
          "height": 204
        },
        "id": "0XHOPHTr8Sf1",
        "outputId": "2ca2cd85-676e-4009-e743-3f3164507e51"
      },
      "source": [
        "train_dataset.head(5)"
      ],
      "execution_count": null,
      "outputs": [
        {
          "output_type": "execute_result",
          "data": {
            "text/html": [
              "<div>\n",
              "<style scoped>\n",
              "    .dataframe tbody tr th:only-of-type {\n",
              "        vertical-align: middle;\n",
              "    }\n",
              "\n",
              "    .dataframe tbody tr th {\n",
              "        vertical-align: top;\n",
              "    }\n",
              "\n",
              "    .dataframe thead th {\n",
              "        text-align: right;\n",
              "    }\n",
              "</style>\n",
              "<table border=\"1\" class=\"dataframe\">\n",
              "  <thead>\n",
              "    <tr style=\"text-align: right;\">\n",
              "      <th></th>\n",
              "      <th>Name</th>\n",
              "      <th>Age</th>\n",
              "      <th>Sex</th>\n",
              "      <th>Covid</th>\n",
              "      <th>Diabetes</th>\n",
              "      <th>VisionLost</th>\n",
              "      <th>PainUnderEye</th>\n",
              "      <th>Headache</th>\n",
              "      <th>Fever</th>\n",
              "      <th>SinusConj</th>\n",
              "      <th>BlackFungus</th>\n",
              "    </tr>\n",
              "  </thead>\n",
              "  <tbody>\n",
              "    <tr>\n",
              "      <th>0</th>\n",
              "      <td>Murad</td>\n",
              "      <td>12.0</td>\n",
              "      <td>1</td>\n",
              "      <td>0</td>\n",
              "      <td>No</td>\n",
              "      <td>Yes</td>\n",
              "      <td>Yes</td>\n",
              "      <td>Yes</td>\n",
              "      <td>Yes</td>\n",
              "      <td>No</td>\n",
              "      <td>No</td>\n",
              "    </tr>\n",
              "    <tr>\n",
              "      <th>1</th>\n",
              "      <td>shivam</td>\n",
              "      <td>12.0</td>\n",
              "      <td>1</td>\n",
              "      <td>0</td>\n",
              "      <td>No</td>\n",
              "      <td>Yes</td>\n",
              "      <td>Yes</td>\n",
              "      <td>Yes</td>\n",
              "      <td>Yes</td>\n",
              "      <td>No</td>\n",
              "      <td>No</td>\n",
              "    </tr>\n",
              "    <tr>\n",
              "      <th>2</th>\n",
              "      <td>aman soni @ badal</td>\n",
              "      <td>15.0</td>\n",
              "      <td>1</td>\n",
              "      <td>1</td>\n",
              "      <td>No</td>\n",
              "      <td>No</td>\n",
              "      <td>Yes</td>\n",
              "      <td>Yes</td>\n",
              "      <td>Yes</td>\n",
              "      <td>No</td>\n",
              "      <td>No</td>\n",
              "    </tr>\n",
              "    <tr>\n",
              "      <th>3</th>\n",
              "      <td>Apon Dash</td>\n",
              "      <td>15.0</td>\n",
              "      <td>1</td>\n",
              "      <td>1</td>\n",
              "      <td>No</td>\n",
              "      <td>No</td>\n",
              "      <td>Yes</td>\n",
              "      <td>Yes</td>\n",
              "      <td>Yes</td>\n",
              "      <td>No</td>\n",
              "      <td>No</td>\n",
              "    </tr>\n",
              "    <tr>\n",
              "      <th>4</th>\n",
              "      <td>shiv shakti singh</td>\n",
              "      <td>15.0</td>\n",
              "      <td>1</td>\n",
              "      <td>1</td>\n",
              "      <td>No</td>\n",
              "      <td>No</td>\n",
              "      <td>Yes</td>\n",
              "      <td>Yes</td>\n",
              "      <td>Yes</td>\n",
              "      <td>No</td>\n",
              "      <td>No</td>\n",
              "    </tr>\n",
              "  </tbody>\n",
              "</table>\n",
              "</div>"
            ],
            "text/plain": [
              "                Name   Age  Sex  Covid  ... Headache Fever SinusConj BlackFungus\n",
              "0              Murad  12.0    1      0  ...      Yes   Yes        No          No\n",
              "1             shivam  12.0    1      0  ...      Yes   Yes        No          No\n",
              "2  aman soni @ badal  15.0    1      1  ...      Yes   Yes        No          No\n",
              "3          Apon Dash  15.0    1      1  ...      Yes   Yes        No          No\n",
              "4  shiv shakti singh  15.0    1      1  ...      Yes   Yes        No          No\n",
              "\n",
              "[5 rows x 11 columns]"
            ]
          },
          "metadata": {
            "tags": []
          },
          "execution_count": 90
        }
      ]
    },
    {
      "cell_type": "code",
      "metadata": {
        "id": "2xc7FoTg8oIn"
      },
      "source": [
        "train_data = [train_dataset]\n",
        "Diabetes_mapping = {\"Yes\":1,\"No\":0}\n",
        "for train in train_data:\n",
        "  train['Diabetes']=train['Diabetes'].map(Diabetes_mapping)\n"
      ],
      "execution_count": null,
      "outputs": []
    },
    {
      "cell_type": "code",
      "metadata": {
        "id": "KiRLgeIt9Vsh"
      },
      "source": [
        "train_data = [train_dataset]\n",
        "VisionLost_mapping = {\"Yes\":1,\"No\":0}\n",
        "for train in train_data:\n",
        "  train['VisionLost']=train['VisionLost'].map(VisionLost_mapping)"
      ],
      "execution_count": null,
      "outputs": []
    },
    {
      "cell_type": "code",
      "metadata": {
        "id": "HIwQ0pLk9iDO"
      },
      "source": [
        "PainUnderEye_mapping = {\"Yes\":1,\"No\":0}\n",
        "for train in train_data:\n",
        "  train['PainUnderEye']=train['PainUnderEye'].map(PainUnderEye_mapping)"
      ],
      "execution_count": null,
      "outputs": []
    },
    {
      "cell_type": "code",
      "metadata": {
        "colab": {
          "base_uri": "https://localhost:8080/",
          "height": 204
        },
        "id": "ekJRaHiJ9vd7",
        "outputId": "2605300b-6530-4ad8-bd78-4daf4f293fc0"
      },
      "source": [
        "train_dataset.head(5)"
      ],
      "execution_count": null,
      "outputs": [
        {
          "output_type": "execute_result",
          "data": {
            "text/html": [
              "<div>\n",
              "<style scoped>\n",
              "    .dataframe tbody tr th:only-of-type {\n",
              "        vertical-align: middle;\n",
              "    }\n",
              "\n",
              "    .dataframe tbody tr th {\n",
              "        vertical-align: top;\n",
              "    }\n",
              "\n",
              "    .dataframe thead th {\n",
              "        text-align: right;\n",
              "    }\n",
              "</style>\n",
              "<table border=\"1\" class=\"dataframe\">\n",
              "  <thead>\n",
              "    <tr style=\"text-align: right;\">\n",
              "      <th></th>\n",
              "      <th>Name</th>\n",
              "      <th>Age</th>\n",
              "      <th>Sex</th>\n",
              "      <th>Covid</th>\n",
              "      <th>Diabetes</th>\n",
              "      <th>VisionLost</th>\n",
              "      <th>PainUnderEye</th>\n",
              "      <th>Headache</th>\n",
              "      <th>Fever</th>\n",
              "      <th>SinusConj</th>\n",
              "      <th>BlackFungus</th>\n",
              "    </tr>\n",
              "  </thead>\n",
              "  <tbody>\n",
              "    <tr>\n",
              "      <th>0</th>\n",
              "      <td>Murad</td>\n",
              "      <td>12.0</td>\n",
              "      <td>1</td>\n",
              "      <td>0</td>\n",
              "      <td>0</td>\n",
              "      <td>1</td>\n",
              "      <td>1</td>\n",
              "      <td>Yes</td>\n",
              "      <td>Yes</td>\n",
              "      <td>No</td>\n",
              "      <td>No</td>\n",
              "    </tr>\n",
              "    <tr>\n",
              "      <th>1</th>\n",
              "      <td>shivam</td>\n",
              "      <td>12.0</td>\n",
              "      <td>1</td>\n",
              "      <td>0</td>\n",
              "      <td>0</td>\n",
              "      <td>1</td>\n",
              "      <td>1</td>\n",
              "      <td>Yes</td>\n",
              "      <td>Yes</td>\n",
              "      <td>No</td>\n",
              "      <td>No</td>\n",
              "    </tr>\n",
              "    <tr>\n",
              "      <th>2</th>\n",
              "      <td>aman soni @ badal</td>\n",
              "      <td>15.0</td>\n",
              "      <td>1</td>\n",
              "      <td>1</td>\n",
              "      <td>0</td>\n",
              "      <td>0</td>\n",
              "      <td>1</td>\n",
              "      <td>Yes</td>\n",
              "      <td>Yes</td>\n",
              "      <td>No</td>\n",
              "      <td>No</td>\n",
              "    </tr>\n",
              "    <tr>\n",
              "      <th>3</th>\n",
              "      <td>Apon Dash</td>\n",
              "      <td>15.0</td>\n",
              "      <td>1</td>\n",
              "      <td>1</td>\n",
              "      <td>0</td>\n",
              "      <td>0</td>\n",
              "      <td>1</td>\n",
              "      <td>Yes</td>\n",
              "      <td>Yes</td>\n",
              "      <td>No</td>\n",
              "      <td>No</td>\n",
              "    </tr>\n",
              "    <tr>\n",
              "      <th>4</th>\n",
              "      <td>shiv shakti singh</td>\n",
              "      <td>15.0</td>\n",
              "      <td>1</td>\n",
              "      <td>1</td>\n",
              "      <td>0</td>\n",
              "      <td>0</td>\n",
              "      <td>1</td>\n",
              "      <td>Yes</td>\n",
              "      <td>Yes</td>\n",
              "      <td>No</td>\n",
              "      <td>No</td>\n",
              "    </tr>\n",
              "  </tbody>\n",
              "</table>\n",
              "</div>"
            ],
            "text/plain": [
              "                Name   Age  Sex  Covid  ...  Headache  Fever  SinusConj BlackFungus\n",
              "0              Murad  12.0    1      0  ...       Yes    Yes         No          No\n",
              "1             shivam  12.0    1      0  ...       Yes    Yes         No          No\n",
              "2  aman soni @ badal  15.0    1      1  ...       Yes    Yes         No          No\n",
              "3          Apon Dash  15.0    1      1  ...       Yes    Yes         No          No\n",
              "4  shiv shakti singh  15.0    1      1  ...       Yes    Yes         No          No\n",
              "\n",
              "[5 rows x 11 columns]"
            ]
          },
          "metadata": {
            "tags": []
          },
          "execution_count": 94
        }
      ]
    },
    {
      "cell_type": "code",
      "metadata": {
        "id": "sbJWDfui9079"
      },
      "source": [
        "Headache_mapping = {\"Yes\":1,\"No\":0}\n",
        "for train in train_data:\n",
        "  train['Headache']=train['Headache'].map(Headache_mapping)"
      ],
      "execution_count": null,
      "outputs": []
    },
    {
      "cell_type": "code",
      "metadata": {
        "id": "jvgP1dnX98jZ"
      },
      "source": [
        "Fever_mapping = {\"Yes\":1,\"No\":0}\n",
        "for train in train_data:\n",
        "  train['Fever']=train['Fever'].map(Fever_mapping)"
      ],
      "execution_count": null,
      "outputs": []
    },
    {
      "cell_type": "code",
      "metadata": {
        "id": "AUuB7AB2-FkU"
      },
      "source": [
        "SinusConj_mapping = {\"Yes\":1,\"No\":0}\n",
        "for train in train_data:\n",
        "  train['SinusConj']=train['SinusConj'].map(SinusConj_mapping)"
      ],
      "execution_count": null,
      "outputs": []
    },
    {
      "cell_type": "code",
      "metadata": {
        "colab": {
          "base_uri": "https://localhost:8080/",
          "height": 204
        },
        "id": "R3sn8Gk0Aazs",
        "outputId": "e867a037-51b1-4619-e28a-7b08f9c7494f"
      },
      "source": [
        "train_dataset.head(5)"
      ],
      "execution_count": null,
      "outputs": [
        {
          "output_type": "execute_result",
          "data": {
            "text/html": [
              "<div>\n",
              "<style scoped>\n",
              "    .dataframe tbody tr th:only-of-type {\n",
              "        vertical-align: middle;\n",
              "    }\n",
              "\n",
              "    .dataframe tbody tr th {\n",
              "        vertical-align: top;\n",
              "    }\n",
              "\n",
              "    .dataframe thead th {\n",
              "        text-align: right;\n",
              "    }\n",
              "</style>\n",
              "<table border=\"1\" class=\"dataframe\">\n",
              "  <thead>\n",
              "    <tr style=\"text-align: right;\">\n",
              "      <th></th>\n",
              "      <th>Name</th>\n",
              "      <th>Age</th>\n",
              "      <th>Sex</th>\n",
              "      <th>Covid</th>\n",
              "      <th>Diabetes</th>\n",
              "      <th>VisionLost</th>\n",
              "      <th>PainUnderEye</th>\n",
              "      <th>Headache</th>\n",
              "      <th>Fever</th>\n",
              "      <th>SinusConj</th>\n",
              "      <th>BlackFungus</th>\n",
              "    </tr>\n",
              "  </thead>\n",
              "  <tbody>\n",
              "    <tr>\n",
              "      <th>0</th>\n",
              "      <td>Murad</td>\n",
              "      <td>12.0</td>\n",
              "      <td>1</td>\n",
              "      <td>0</td>\n",
              "      <td>0</td>\n",
              "      <td>1</td>\n",
              "      <td>1</td>\n",
              "      <td>1</td>\n",
              "      <td>1</td>\n",
              "      <td>0</td>\n",
              "      <td>No</td>\n",
              "    </tr>\n",
              "    <tr>\n",
              "      <th>1</th>\n",
              "      <td>shivam</td>\n",
              "      <td>12.0</td>\n",
              "      <td>1</td>\n",
              "      <td>0</td>\n",
              "      <td>0</td>\n",
              "      <td>1</td>\n",
              "      <td>1</td>\n",
              "      <td>1</td>\n",
              "      <td>1</td>\n",
              "      <td>0</td>\n",
              "      <td>No</td>\n",
              "    </tr>\n",
              "    <tr>\n",
              "      <th>2</th>\n",
              "      <td>aman soni @ badal</td>\n",
              "      <td>15.0</td>\n",
              "      <td>1</td>\n",
              "      <td>1</td>\n",
              "      <td>0</td>\n",
              "      <td>0</td>\n",
              "      <td>1</td>\n",
              "      <td>1</td>\n",
              "      <td>1</td>\n",
              "      <td>0</td>\n",
              "      <td>No</td>\n",
              "    </tr>\n",
              "    <tr>\n",
              "      <th>3</th>\n",
              "      <td>Apon Dash</td>\n",
              "      <td>15.0</td>\n",
              "      <td>1</td>\n",
              "      <td>1</td>\n",
              "      <td>0</td>\n",
              "      <td>0</td>\n",
              "      <td>1</td>\n",
              "      <td>1</td>\n",
              "      <td>1</td>\n",
              "      <td>0</td>\n",
              "      <td>No</td>\n",
              "    </tr>\n",
              "    <tr>\n",
              "      <th>4</th>\n",
              "      <td>shiv shakti singh</td>\n",
              "      <td>15.0</td>\n",
              "      <td>1</td>\n",
              "      <td>1</td>\n",
              "      <td>0</td>\n",
              "      <td>0</td>\n",
              "      <td>1</td>\n",
              "      <td>1</td>\n",
              "      <td>1</td>\n",
              "      <td>0</td>\n",
              "      <td>No</td>\n",
              "    </tr>\n",
              "  </tbody>\n",
              "</table>\n",
              "</div>"
            ],
            "text/plain": [
              "                Name   Age  Sex  Covid  ...  Headache  Fever  SinusConj  BlackFungus\n",
              "0              Murad  12.0    1      0  ...         1      1          0           No\n",
              "1             shivam  12.0    1      0  ...         1      1          0           No\n",
              "2  aman soni @ badal  15.0    1      1  ...         1      1          0           No\n",
              "3          Apon Dash  15.0    1      1  ...         1      1          0           No\n",
              "4  shiv shakti singh  15.0    1      1  ...         1      1          0           No\n",
              "\n",
              "[5 rows x 11 columns]"
            ]
          },
          "metadata": {
            "tags": []
          },
          "execution_count": 98
        }
      ]
    },
    {
      "cell_type": "code",
      "metadata": {
        "id": "rpVZsZBcB7Gy"
      },
      "source": [
        "train_dataset.drop([\"Name\"], axis = 1, inplace = True)"
      ],
      "execution_count": null,
      "outputs": []
    },
    {
      "cell_type": "code",
      "metadata": {
        "colab": {
          "base_uri": "https://localhost:8080/",
          "height": 204
        },
        "id": "dOcSQYs0CPrq",
        "outputId": "16397e2f-4ff0-45c3-a91d-0406d42e79d4"
      },
      "source": [
        "train_dataset.head(5)"
      ],
      "execution_count": null,
      "outputs": [
        {
          "output_type": "execute_result",
          "data": {
            "text/html": [
              "<div>\n",
              "<style scoped>\n",
              "    .dataframe tbody tr th:only-of-type {\n",
              "        vertical-align: middle;\n",
              "    }\n",
              "\n",
              "    .dataframe tbody tr th {\n",
              "        vertical-align: top;\n",
              "    }\n",
              "\n",
              "    .dataframe thead th {\n",
              "        text-align: right;\n",
              "    }\n",
              "</style>\n",
              "<table border=\"1\" class=\"dataframe\">\n",
              "  <thead>\n",
              "    <tr style=\"text-align: right;\">\n",
              "      <th></th>\n",
              "      <th>Age</th>\n",
              "      <th>Sex</th>\n",
              "      <th>Covid</th>\n",
              "      <th>Diabetes</th>\n",
              "      <th>VisionLost</th>\n",
              "      <th>PainUnderEye</th>\n",
              "      <th>Headache</th>\n",
              "      <th>Fever</th>\n",
              "      <th>SinusConj</th>\n",
              "      <th>BlackFungus</th>\n",
              "    </tr>\n",
              "  </thead>\n",
              "  <tbody>\n",
              "    <tr>\n",
              "      <th>0</th>\n",
              "      <td>12.0</td>\n",
              "      <td>1</td>\n",
              "      <td>0</td>\n",
              "      <td>0</td>\n",
              "      <td>1</td>\n",
              "      <td>1</td>\n",
              "      <td>1</td>\n",
              "      <td>1</td>\n",
              "      <td>0</td>\n",
              "      <td>No</td>\n",
              "    </tr>\n",
              "    <tr>\n",
              "      <th>1</th>\n",
              "      <td>12.0</td>\n",
              "      <td>1</td>\n",
              "      <td>0</td>\n",
              "      <td>0</td>\n",
              "      <td>1</td>\n",
              "      <td>1</td>\n",
              "      <td>1</td>\n",
              "      <td>1</td>\n",
              "      <td>0</td>\n",
              "      <td>No</td>\n",
              "    </tr>\n",
              "    <tr>\n",
              "      <th>2</th>\n",
              "      <td>15.0</td>\n",
              "      <td>1</td>\n",
              "      <td>1</td>\n",
              "      <td>0</td>\n",
              "      <td>0</td>\n",
              "      <td>1</td>\n",
              "      <td>1</td>\n",
              "      <td>1</td>\n",
              "      <td>0</td>\n",
              "      <td>No</td>\n",
              "    </tr>\n",
              "    <tr>\n",
              "      <th>3</th>\n",
              "      <td>15.0</td>\n",
              "      <td>1</td>\n",
              "      <td>1</td>\n",
              "      <td>0</td>\n",
              "      <td>0</td>\n",
              "      <td>1</td>\n",
              "      <td>1</td>\n",
              "      <td>1</td>\n",
              "      <td>0</td>\n",
              "      <td>No</td>\n",
              "    </tr>\n",
              "    <tr>\n",
              "      <th>4</th>\n",
              "      <td>15.0</td>\n",
              "      <td>1</td>\n",
              "      <td>1</td>\n",
              "      <td>0</td>\n",
              "      <td>0</td>\n",
              "      <td>1</td>\n",
              "      <td>1</td>\n",
              "      <td>1</td>\n",
              "      <td>0</td>\n",
              "      <td>No</td>\n",
              "    </tr>\n",
              "  </tbody>\n",
              "</table>\n",
              "</div>"
            ],
            "text/plain": [
              "    Age  Sex  Covid  Diabetes  ...  Headache  Fever  SinusConj  BlackFungus\n",
              "0  12.0    1      0         0  ...         1      1          0           No\n",
              "1  12.0    1      0         0  ...         1      1          0           No\n",
              "2  15.0    1      1         0  ...         1      1          0           No\n",
              "3  15.0    1      1         0  ...         1      1          0           No\n",
              "4  15.0    1      1         0  ...         1      1          0           No\n",
              "\n",
              "[5 rows x 10 columns]"
            ]
          },
          "metadata": {
            "tags": []
          },
          "execution_count": 100
        }
      ]
    },
    {
      "cell_type": "code",
      "metadata": {
        "id": "q6cKaIflCvgw"
      },
      "source": [
        "def barChart(feature):\n",
        "  blackFungus = train_dataset[train_dataset[\"BlackFungus\"]==\"Yes\"][feature].value_counts()\n",
        "  NotBlackFungus = train_dataset[train_dataset[\"BlackFungus\"]==\"No\"][feature].value_counts()\n",
        "  df = pd.DataFrame([blackFungus,NotBlackFungus])\n",
        "  df.index=['BlackFungus','NotBlackFungus']\n",
        "  df.plot(kind='bar', stacked=True,figsize=(10,5))\n"
      ],
      "execution_count": null,
      "outputs": []
    },
    {
      "cell_type": "code",
      "metadata": {
        "colab": {
          "base_uri": "https://localhost:8080/",
          "height": 390
        },
        "id": "Y93VjBnaDs8K",
        "outputId": "b5385e56-05a8-4751-bcad-85a73c6f0ad5"
      },
      "source": [
        "barChart('BlackFungus')"
      ],
      "execution_count": null,
      "outputs": [
        {
          "output_type": "display_data",
          "data": {
            "image/png": "[encoded data removed]",
            "text/plain": [
              "<Figure size 720x360 with 1 Axes>"
            ]
          },
          "metadata": {
            "tags": [],
            "needs_background": "light"
          }
        }
      ]
    },
    {
      "cell_type": "markdown",
      "metadata": {
        "id": "qFwKtU5qJou_"
      },
      "source": [
        "# **Data Exploration and Visualization with Seaborn Pair Plots**"
      ]
    },
    {
      "cell_type": "code",
      "metadata": {
        "id": "AqW2YsH-Jrpb"
      },
      "source": [
        "import numpy as np\n",
        "import matplotlib.pyplot as plt\n",
        "import seaborn as sns\n",
        "from matplotlib import style \n",
        "%matplotlib inline"
      ],
      "execution_count": null,
      "outputs": []
    },
    {
      "cell_type": "code",
      "metadata": {
        "colab": {
          "base_uri": "https://localhost:8080/",
          "height": 1000
        },
        "id": "A-A6lz0dJzwz",
        "outputId": "8fd344e5-8aea-4579-fd89-5b92760be609"
      },
      "source": [
        "sns.pairplot(train_dataset.iloc[:,:], hue='BlackFungus')"
      ],
      "execution_count": null,
      "outputs": [
        {
          "output_type": "execute_result",
          "data": {
            "text/plain": [
              "<seaborn.axisgrid.PairGrid at 0x7fb2f0514110>"
            ]
          },
          "metadata": {
            "tags": []
          },
          "execution_count": 104
        },
        {
          "output_type": "display_data",
          "data": {
            "image/png": "[encoded data removed]",
            "text/plain": [
              "<Figure size 1691.12x1620 with 90 Axes>"
            ]
          },
          "metadata": {
            "tags": [],
            "needs_background": "light"
          }
        }
      ]
    },
    {
      "cell_type": "markdown",
      "metadata": {
        "id": "8DX-3MYDKjRj"
      },
      "source": [
        "# **Data Exploration and Visualization with Seaborn Heat Map**"
      ]
    },
    {
      "cell_type": "code",
      "metadata": {
        "colab": {
          "base_uri": "https://localhost:8080/",
          "height": 721
        },
        "id": "-I1hkyPhKpm7",
        "outputId": "25c54c33-b584-4482-ca8c-9fc75f9bc206"
      },
      "source": [
        "plt.figure(figsize=(20,12))\n",
        "sns.heatmap(train_dataset.iloc[:,:].corr(),annot=True)"
      ],
      "execution_count": null,
      "outputs": [
        {
          "output_type": "execute_result",
          "data": {
            "text/plain": [
              "<matplotlib.axes._subplots.AxesSubplot at 0x7fb2ee6c24d0>"
            ]
          },
          "metadata": {
            "tags": []
          },
          "execution_count": 105
        },
        {
          "output_type": "display_data",
          "data": {
            "image/png": "[encoded data removed]",
            "text/plain": [
              "<Figure size 1440x864 with 2 Axes>"
            ]
          },
          "metadata": {
            "tags": [],
            "needs_background": "light"
          }
        }
      ]
    },
    {
      "cell_type": "code",
      "metadata": {
        "colab": {
          "base_uri": "https://localhost:8080/"
        },
        "id": "rNRA1nI3VW84",
        "outputId": "b41f70ca-12e9-4d23-ede8-cc690268d206"
      },
      "source": [
        "train_dataset.isnull().sum()"
      ],
      "execution_count": null,
      "outputs": [
        {
          "output_type": "execute_result",
          "data": {
            "text/plain": [
              "Age             0\n",
              "Sex             0\n",
              "Covid           0\n",
              "Diabetes        0\n",
              "VisionLost      0\n",
              "PainUnderEye    0\n",
              "Headache        0\n",
              "Fever           0\n",
              "SinusConj       0\n",
              "BlackFungus     0\n",
              "dtype: int64"
            ]
          },
          "metadata": {
            "tags": []
          },
          "execution_count": 106
        }
      ]
    },
    {
      "cell_type": "code",
      "metadata": {
        "colab": {
          "base_uri": "https://localhost:8080/"
        },
        "id": "8TmjMHOaVx_j",
        "outputId": "8b0de958-8dcc-463c-d5cc-828b4880548f"
      },
      "source": [
        "train_data=train.drop('BlackFungus', axis=1)\n",
        "target=train['BlackFungus']\n",
        "train_data.shape,target.shape"
      ],
      "execution_count": null,
      "outputs": [
        {
          "output_type": "execute_result",
          "data": {
            "text/plain": [
              "((450, 9), (450,))"
            ]
          },
          "metadata": {
            "tags": []
          },
          "execution_count": 107
        }
      ]
    },
    {
      "cell_type": "code",
      "metadata": {
        "colab": {
          "base_uri": "https://localhost:8080/"
        },
        "id": "C2hgy1lpWDE5",
        "outputId": "66de7e5d-7f42-4e66-a1ea-ef1d33b5d93d"
      },
      "source": [
        "from sklearn.model_selection import train_test_split\n",
        "x_train , x_test , y_train , y_test = train_test_split (train_data, target, test_size=0.3, random_state=42)\n",
        "print(\"x_train\",x_train.shape)\n",
        "print(\"x_test\",x_test.shape)\n",
        "print(\"y_train\",y_train.shape)\n",
        "print(\"y_test\",y_test.shape)\n",
        "print(y_test)\n",
        "y_test.value_counts()"
      ],
      "execution_count": null,
      "outputs": [
        {
          "output_type": "stream",
          "text": [
            "x_train (315, 9)\n",
            "x_test (135, 9)\n",
            "y_train (315,)\n",
            "y_test (135,)\n",
            "407     No\n",
            "444     No\n",
            "117     No\n",
            "30      No\n",
            "415     No\n",
            "      ... \n",
            "29      No\n",
            "298    Yes\n",
            "285    Yes\n",
            "26     Yes\n",
            "7       No\n",
            "Name: BlackFungus, Length: 135, dtype: object\n"
          ],
          "name": "stdout"
        },
        {
          "output_type": "execute_result",
          "data": {
            "text/plain": [
              "No     99\n",
              "Yes    36\n",
              "Name: BlackFungus, dtype: int64"
            ]
          },
          "metadata": {
            "tags": []
          },
          "execution_count": 108
        }
      ]
    },
    {
      "cell_type": "code",
      "metadata": {
        "colab": {
          "base_uri": "https://localhost:8080/"
        },
        "id": "fhpM7f8jWRNg",
        "outputId": "8693b871-3b2c-4256-a3ad-4fc4020f8316"
      },
      "source": [
        "train.dtypes"
      ],
      "execution_count": null,
      "outputs": [
        {
          "output_type": "execute_result",
          "data": {
            "text/plain": [
              "Age             float64\n",
              "Sex               int64\n",
              "Covid             int64\n",
              "Diabetes          int64\n",
              "VisionLost        int64\n",
              "PainUnderEye      int64\n",
              "Headache          int64\n",
              "Fever             int64\n",
              "SinusConj         int64\n",
              "BlackFungus      object\n",
              "dtype: object"
            ]
          },
          "metadata": {
            "tags": []
          },
          "execution_count": 109
        }
      ]
    },
    {
      "cell_type": "code",
      "metadata": {
        "id": "f5E5jtKRWWBj"
      },
      "source": [
        "train['Age']=train['Age'].astype(int)"
      ],
      "execution_count": null,
      "outputs": []
    },
    {
      "cell_type": "code",
      "metadata": {
        "colab": {
          "base_uri": "https://localhost:8080/"
        },
        "id": "Q1jV1LNEWacU",
        "outputId": "879ac18a-4a2f-41ac-e01f-fcb533ea6814"
      },
      "source": [
        "train.dtypes"
      ],
      "execution_count": null,
      "outputs": [
        {
          "output_type": "execute_result",
          "data": {
            "text/plain": [
              "Age              int64\n",
              "Sex              int64\n",
              "Covid            int64\n",
              "Diabetes         int64\n",
              "VisionLost       int64\n",
              "PainUnderEye     int64\n",
              "Headache         int64\n",
              "Fever            int64\n",
              "SinusConj        int64\n",
              "BlackFungus     object\n",
              "dtype: object"
            ]
          },
          "metadata": {
            "tags": []
          },
          "execution_count": 111
        }
      ]
    },
    {
      "cell_type": "markdown",
      "metadata": {
        "id": "_a_XNYivZ-Ar"
      },
      "source": [
        "# **Decision Tree**"
      ]
    },
    {
      "cell_type": "code",
      "metadata": {
        "id": "HDs95sPKWfO2"
      },
      "source": [
        "from sklearn.tree import DecisionTreeClassifier"
      ],
      "execution_count": null,
      "outputs": []
    },
    {
      "cell_type": "code",
      "metadata": {
        "colab": {
          "base_uri": "https://localhost:8080/"
        },
        "id": "lrGWHfJuWhgP",
        "outputId": "232b5034-cd8e-40e7-f7a5-511f39211260"
      },
      "source": [
        "dt=DecisionTreeClassifier()\n",
        "dt.fit(x_train,y_train)"
      ],
      "execution_count": null,
      "outputs": [
        {
          "output_type": "execute_result",
          "data": {
            "text/plain": [
              "DecisionTreeClassifier(ccp_alpha=0.0, class_weight=None, criterion='gini',\n",
              "                       max_depth=None, max_features=None, max_leaf_nodes=None,\n",
              "                       min_impurity_decrease=0.0, min_impurity_split=None,\n",
              "                       min_samples_leaf=1, min_samples_split=2,\n",
              "                       min_weight_fraction_leaf=0.0, presort='deprecated',\n",
              "                       random_state=None, splitter='best')"
            ]
          },
          "metadata": {
            "tags": []
          },
          "execution_count": 113
        }
      ]
    },
    {
      "cell_type": "markdown",
      "metadata": {
        "id": "vIopCTnJL75t"
      },
      "source": [
        "# Importance Feature "
      ]
    },
    {
      "cell_type": "code",
      "metadata": {
        "colab": {
          "base_uri": "https://localhost:8080/"
        },
        "id": "eUC7Eo3yGXRU",
        "outputId": "bab3951c-1107-47c8-ef99-fba804e45cbf"
      },
      "source": [
        "dt.feature_importances_"
      ],
      "execution_count": null,
      "outputs": [
        {
          "output_type": "execute_result",
          "data": {
            "text/plain": [
              "array([0.22524251, 0.04184487, 0.18170797, 0.15917761, 0.24191275,\n",
              "       0.02898804, 0.02689438, 0.03383602, 0.06039584])"
            ]
          },
          "metadata": {
            "tags": []
          },
          "execution_count": 114
        }
      ]
    },
    {
      "cell_type": "code",
      "metadata": {
        "id": "ldHek-CEHhhk"
      },
      "source": [
        "top_featute = pd.Series(dt.feature_importances_,index=train_data.columns)"
      ],
      "execution_count": null,
      "outputs": []
    },
    {
      "cell_type": "code",
      "metadata": {
        "colab": {
          "base_uri": "https://localhost:8080/"
        },
        "id": "WdIjexeRH9c6",
        "outputId": "4fd3650a-cc4a-4607-b2f5-003303ccfa4d"
      },
      "source": [
        "top_featute"
      ],
      "execution_count": null,
      "outputs": [
        {
          "output_type": "execute_result",
          "data": {
            "text/plain": [
              "Age             0.225243\n",
              "Sex             0.041845\n",
              "Covid           0.181708\n",
              "Diabetes        0.159178\n",
              "VisionLost      0.241913\n",
              "PainUnderEye    0.028988\n",
              "Headache        0.026894\n",
              "Fever           0.033836\n",
              "SinusConj       0.060396\n",
              "dtype: float64"
            ]
          },
          "metadata": {
            "tags": []
          },
          "execution_count": 116
        }
      ]
    },
    {
      "cell_type": "code",
      "metadata": {
        "colab": {
          "base_uri": "https://localhost:8080/",
          "height": 282
        },
        "id": "1-we52eOLsTF",
        "outputId": "4cf714e8-7f15-460c-d0d2-2cb951f8b053"
      },
      "source": [
        "top_featute.nlargest(9).plot(kind=\"barh\")"
      ],
      "execution_count": null,
      "outputs": [
        {
          "output_type": "execute_result",
          "data": {
            "text/plain": [
              "<matplotlib.axes._subplots.AxesSubplot at 0x7fb2eedca310>"
            ]
          },
          "metadata": {
            "tags": []
          },
          "execution_count": 117
        },
        {
          "output_type": "display_data",
          "data": {
            "image/png": "[encoded data removed]",
            "text/plain": [
              "<Figure size 432x288 with 1 Axes>"
            ]
          },
          "metadata": {
            "tags": [],
            "needs_background": "light"
          }
        }
      ]
    },
    {
      "cell_type": "markdown",
      "metadata": {
        "id": "m6FE4o1YgeVT"
      },
      "source": [
        "**Train Dataset score DT**"
      ]
    },
    {
      "cell_type": "code",
      "metadata": {
        "id": "LUTySTsegaoh"
      },
      "source": [
        "dt_train_score = dt.score(x_train,y_train)"
      ],
      "execution_count": null,
      "outputs": []
    },
    {
      "cell_type": "code",
      "metadata": {
        "colab": {
          "base_uri": "https://localhost:8080/"
        },
        "id": "_2hQI9bZhzb-",
        "outputId": "067bf44e-4118-4998-8798-e220d089432c"
      },
      "source": [
        "print(dt_train_score*100)"
      ],
      "execution_count": null,
      "outputs": [
        {
          "output_type": "stream",
          "text": [
            "88.57142857142857\n"
          ],
          "name": "stdout"
        }
      ]
    },
    {
      "cell_type": "code",
      "metadata": {
        "id": "uHRhY5FUWktp"
      },
      "source": [
        "y_pred=dt.predict(x_test)"
      ],
      "execution_count": null,
      "outputs": []
    },
    {
      "cell_type": "code",
      "metadata": {
        "colab": {
          "base_uri": "https://localhost:8080/"
        },
        "id": "BdfOQv2rWpKb",
        "outputId": "bed2e283-cf4a-4003-b20b-cd573d66e39c"
      },
      "source": [
        "from sklearn.metrics import confusion_matrix, classification_report\n",
        "print(confusion_matrix(y_test,y_pred))\n",
        "print(classification_report(y_test,y_pred))"
      ],
      "execution_count": null,
      "outputs": [
        {
          "output_type": "stream",
          "text": [
            "[[83 16]\n",
            " [19 17]]\n",
            "              precision    recall  f1-score   support\n",
            "\n",
            "          No       0.81      0.84      0.83        99\n",
            "         Yes       0.52      0.47      0.49        36\n",
            "\n",
            "    accuracy                           0.74       135\n",
            "   macro avg       0.66      0.66      0.66       135\n",
            "weighted avg       0.73      0.74      0.74       135\n",
            "\n"
          ],
          "name": "stdout"
        }
      ]
    },
    {
      "cell_type": "markdown",
      "metadata": {
        "id": "I-7pbaTNgmgd"
      },
      "source": [
        "**Test Dataset score DT**"
      ]
    },
    {
      "cell_type": "code",
      "metadata": {
        "colab": {
          "base_uri": "https://localhost:8080/"
        },
        "id": "VbQ9BgX0fVLd",
        "outputId": "f6665e06-5515-4256-c3c5-41c53f53a2b5"
      },
      "source": [
        "print(dt.score(x_test,y_test))"
      ],
      "execution_count": null,
      "outputs": [
        {
          "output_type": "stream",
          "text": [
            "0.7407407407407407\n"
          ],
          "name": "stdout"
        }
      ]
    },
    {
      "cell_type": "code",
      "metadata": {
        "colab": {
          "base_uri": "https://localhost:8080/"
        },
        "id": "4_yQALFqWwEt",
        "outputId": "96f6a9f3-954e-492b-d825-435aa3e42499"
      },
      "source": [
        "from sklearn.metrics import accuracy_score\n",
        "dt_test_accuracy = accuracy_score(y_test, y_pred)*100\n",
        "print(dt_test_accuracy)"
      ],
      "execution_count": null,
      "outputs": [
        {
          "output_type": "stream",
          "text": [
            "74.07407407407408\n"
          ],
          "name": "stdout"
        }
      ]
    },
    {
      "cell_type": "code",
      "metadata": {
        "colab": {
          "base_uri": "https://localhost:8080/",
          "height": 204
        },
        "id": "h9wSHL3qf8G_",
        "outputId": "03480a62-4bb4-4211-e369-86a1b3e618e3"
      },
      "source": [
        "train_dataset.tail()"
      ],
      "execution_count": null,
      "outputs": [
        {
          "output_type": "execute_result",
          "data": {
            "text/html": [
              "<div>\n",
              "<style scoped>\n",
              "    .dataframe tbody tr th:only-of-type {\n",
              "        vertical-align: middle;\n",
              "    }\n",
              "\n",
              "    .dataframe tbody tr th {\n",
              "        vertical-align: top;\n",
              "    }\n",
              "\n",
              "    .dataframe thead th {\n",
              "        text-align: right;\n",
              "    }\n",
              "</style>\n",
              "<table border=\"1\" class=\"dataframe\">\n",
              "  <thead>\n",
              "    <tr style=\"text-align: right;\">\n",
              "      <th></th>\n",
              "      <th>Age</th>\n",
              "      <th>Sex</th>\n",
              "      <th>Covid</th>\n",
              "      <th>Diabetes</th>\n",
              "      <th>VisionLost</th>\n",
              "      <th>PainUnderEye</th>\n",
              "      <th>Headache</th>\n",
              "      <th>Fever</th>\n",
              "      <th>SinusConj</th>\n",
              "      <th>BlackFungus</th>\n",
              "    </tr>\n",
              "  </thead>\n",
              "  <tbody>\n",
              "    <tr>\n",
              "      <th>445</th>\n",
              "      <td>75</td>\n",
              "      <td>1</td>\n",
              "      <td>0</td>\n",
              "      <td>1</td>\n",
              "      <td>1</td>\n",
              "      <td>0</td>\n",
              "      <td>0</td>\n",
              "      <td>0</td>\n",
              "      <td>0</td>\n",
              "      <td>No</td>\n",
              "    </tr>\n",
              "    <tr>\n",
              "      <th>446</th>\n",
              "      <td>75</td>\n",
              "      <td>1</td>\n",
              "      <td>0</td>\n",
              "      <td>1</td>\n",
              "      <td>1</td>\n",
              "      <td>0</td>\n",
              "      <td>0</td>\n",
              "      <td>0</td>\n",
              "      <td>0</td>\n",
              "      <td>No</td>\n",
              "    </tr>\n",
              "    <tr>\n",
              "      <th>447</th>\n",
              "      <td>75</td>\n",
              "      <td>1</td>\n",
              "      <td>0</td>\n",
              "      <td>1</td>\n",
              "      <td>1</td>\n",
              "      <td>0</td>\n",
              "      <td>0</td>\n",
              "      <td>0</td>\n",
              "      <td>0</td>\n",
              "      <td>No</td>\n",
              "    </tr>\n",
              "    <tr>\n",
              "      <th>448</th>\n",
              "      <td>76</td>\n",
              "      <td>1</td>\n",
              "      <td>1</td>\n",
              "      <td>1</td>\n",
              "      <td>0</td>\n",
              "      <td>0</td>\n",
              "      <td>0</td>\n",
              "      <td>0</td>\n",
              "      <td>0</td>\n",
              "      <td>No</td>\n",
              "    </tr>\n",
              "    <tr>\n",
              "      <th>449</th>\n",
              "      <td>76</td>\n",
              "      <td>1</td>\n",
              "      <td>1</td>\n",
              "      <td>1</td>\n",
              "      <td>0</td>\n",
              "      <td>0</td>\n",
              "      <td>0</td>\n",
              "      <td>0</td>\n",
              "      <td>0</td>\n",
              "      <td>No</td>\n",
              "    </tr>\n",
              "  </tbody>\n",
              "</table>\n",
              "</div>"
            ],
            "text/plain": [
              "     Age  Sex  Covid  Diabetes  ...  Headache  Fever  SinusConj  BlackFungus\n",
              "445   75    1      0         1  ...         0      0          0           No\n",
              "446   75    1      0         1  ...         0      0          0           No\n",
              "447   75    1      0         1  ...         0      0          0           No\n",
              "448   76    1      1         1  ...         0      0          0           No\n",
              "449   76    1      1         1  ...         0      0          0           No\n",
              "\n",
              "[5 rows x 10 columns]"
            ]
          },
          "metadata": {
            "tags": []
          },
          "execution_count": 124
        }
      ]
    },
    {
      "cell_type": "markdown",
      "metadata": {
        "id": "aUd7rLb9ihIQ"
      },
      "source": [
        "# **Decision Tree Classifier Train data and Test Data Accuracy barchart**"
      ]
    },
    {
      "cell_type": "code",
      "metadata": {
        "colab": {
          "base_uri": "https://localhost:8080/",
          "height": 295
        },
        "id": "jazVuUy9hK4G",
        "outputId": "4db0b23d-09c8-4607-bc65-95496c662729"
      },
      "source": [
        "DT_x=[\"Train Dataset\",\"Test Dataset\"]\n",
        "DT_y=[dt_train_score*100,accuracy_score(y_test, y_pred)*100]\n",
        "plt.bar(DT_x,DT_y)\n",
        "plt.xlabel(\"Dataset type\")\n",
        "plt.ylabel(\"Accuracy Rate\")\n",
        "plt.title(\"Accuracy visualization of Decision Tree Classifier algorithm\")\n",
        "plt.show()"
      ],
      "execution_count": null,
      "outputs": [
        {
          "output_type": "display_data",
          "data": {
            "image/png": "[encoded data removed]",
            "text/plain": [
              "<Figure size 432x288 with 1 Axes>"
            ]
          },
          "metadata": {
            "tags": [],
            "needs_background": "light"
          }
        }
      ]
    },
    {
      "cell_type": "markdown",
      "metadata": {
        "id": "oOK7Y3-JBYjF"
      },
      "source": [
        "# **Logistic Regression Algorithm**"
      ]
    },
    {
      "cell_type": "code",
      "metadata": {
        "colab": {
          "base_uri": "https://localhost:8080/"
        },
        "id": "i_SEkdodBjm5",
        "outputId": "967e2080-1ee6-48ca-f9a3-85b893121725"
      },
      "source": [
        "from sklearn.linear_model import LogisticRegressionCV\n",
        "lr=LogisticRegressionCV()\n",
        "lr.fit(x_train,y_train)\n"
      ],
      "execution_count": null,
      "outputs": [
        {
          "output_type": "execute_result",
          "data": {
            "text/plain": [
              "LogisticRegressionCV(Cs=10, class_weight=None, cv=None, dual=False,\n",
              "                     fit_intercept=True, intercept_scaling=1.0, l1_ratios=None,\n",
              "                     max_iter=100, multi_class='auto', n_jobs=None,\n",
              "                     penalty='l2', random_state=None, refit=True, scoring=None,\n",
              "                     solver='lbfgs', tol=0.0001, verbose=0)"
            ]
          },
          "metadata": {
            "tags": []
          },
          "execution_count": 126
        }
      ]
    },
    {
      "cell_type": "markdown",
      "metadata": {
        "id": "65Z7Dx34I10R"
      },
      "source": [
        "# **Train Dataset accuracy Logistic Regression**"
      ]
    },
    {
      "cell_type": "code",
      "metadata": {
        "id": "ANeAJoSfJEK5"
      },
      "source": [
        "lr_train_accuracy = lr.score(x_train,y_train)*100"
      ],
      "execution_count": null,
      "outputs": []
    },
    {
      "cell_type": "code",
      "metadata": {
        "colab": {
          "base_uri": "https://localhost:8080/"
        },
        "id": "Oub5K9G8JT7U",
        "outputId": "4c497866-8744-4912-d0ca-2a396287a4c6"
      },
      "source": [
        "lr_train_accuracy"
      ],
      "execution_count": null,
      "outputs": [
        {
          "output_type": "execute_result",
          "data": {
            "text/plain": [
              "83.4920634920635"
            ]
          },
          "metadata": {
            "tags": []
          },
          "execution_count": 128
        }
      ]
    },
    {
      "cell_type": "markdown",
      "metadata": {
        "id": "ZJYRlYXwJoto"
      },
      "source": [
        "# **Test Dataset Accuracy Logistic Regression**"
      ]
    },
    {
      "cell_type": "code",
      "metadata": {
        "colab": {
          "base_uri": "https://localhost:8080/"
        },
        "id": "QC6AAmETJwB8",
        "outputId": "1d1a582a-2836-4a14-b0b8-a8316ed3fdc8"
      },
      "source": [
        "y_pred=lr.predict(x_test)\n",
        "lr_test_accuracy = accuracy_score(y_pred,y_test)*100;\n",
        "print(\"Accuracy:\",lr_test_accuracy)"
      ],
      "execution_count": null,
      "outputs": [
        {
          "output_type": "stream",
          "text": [
            "Accuracy: 84.44444444444444\n"
          ],
          "name": "stdout"
        }
      ]
    },
    {
      "cell_type": "code",
      "metadata": {
        "id": "XruJ9egAvHpR"
      },
      "source": [
        "from sklearn.metrics import confusion_matrix"
      ],
      "execution_count": null,
      "outputs": []
    },
    {
      "cell_type": "code",
      "metadata": {
        "colab": {
          "base_uri": "https://localhost:8080/"
        },
        "id": "cIicPDq6vVYu",
        "outputId": "fa261712-d351-4f23-e43a-5c276d7fda23"
      },
      "source": [
        "confusion_matrix(y_pred,y_test)"
      ],
      "execution_count": null,
      "outputs": [
        {
          "output_type": "execute_result",
          "data": {
            "text/plain": [
              "array([[84,  6],\n",
              "       [15, 30]])"
            ]
          },
          "metadata": {
            "tags": []
          },
          "execution_count": 131
        }
      ]
    },
    {
      "cell_type": "code",
      "metadata": {
        "colab": {
          "base_uri": "https://localhost:8080/"
        },
        "id": "Hi9bbN2cwaQB",
        "outputId": "72c3fefe-33f7-4841-84ee-dd45f789ca98"
      },
      "source": [
        "from sklearn.metrics import confusion_matrix, classification_report\n",
        "print(confusion_matrix(y_test,y_pred))\n",
        "print(classification_report(y_test,y_pred))"
      ],
      "execution_count": null,
      "outputs": [
        {
          "output_type": "stream",
          "text": [
            "[[84 15]\n",
            " [ 6 30]]\n",
            "              precision    recall  f1-score   support\n",
            "\n",
            "          No       0.93      0.85      0.89        99\n",
            "         Yes       0.67      0.83      0.74        36\n",
            "\n",
            "    accuracy                           0.84       135\n",
            "   macro avg       0.80      0.84      0.81       135\n",
            "weighted avg       0.86      0.84      0.85       135\n",
            "\n"
          ],
          "name": "stdout"
        }
      ]
    },
    {
      "cell_type": "markdown",
      "metadata": {
        "id": "pTI8R5BYaFCo"
      },
      "source": [
        "# **Random Forest**"
      ]
    },
    {
      "cell_type": "code",
      "metadata": {
        "id": "I9sKSvwEWy-G"
      },
      "source": [
        "from sklearn.ensemble import RandomForestClassifier"
      ],
      "execution_count": null,
      "outputs": []
    },
    {
      "cell_type": "code",
      "metadata": {
        "colab": {
          "base_uri": "https://localhost:8080/"
        },
        "id": "CiOcHaqHW1V3",
        "outputId": "1a6511eb-183c-4e87-d528-6d94ceaf94a8"
      },
      "source": [
        "rf=RandomForestClassifier(n_estimators=100)\n",
        "rf.fit(x_train,y_train)"
      ],
      "execution_count": null,
      "outputs": [
        {
          "output_type": "execute_result",
          "data": {
            "text/plain": [
              "RandomForestClassifier(bootstrap=True, ccp_alpha=0.0, class_weight=None,\n",
              "                       criterion='gini', max_depth=None, max_features='auto',\n",
              "                       max_leaf_nodes=None, max_samples=None,\n",
              "                       min_impurity_decrease=0.0, min_impurity_split=None,\n",
              "                       min_samples_leaf=1, min_samples_split=2,\n",
              "                       min_weight_fraction_leaf=0.0, n_estimators=100,\n",
              "                       n_jobs=None, oob_score=False, random_state=None,\n",
              "                       verbose=0, warm_start=False)"
            ]
          },
          "metadata": {
            "tags": []
          },
          "execution_count": 134
        }
      ]
    },
    {
      "cell_type": "markdown",
      "metadata": {
        "id": "g5nhf3Pzi4zh"
      },
      "source": [
        "## **Train Dataset score Random Forest**\n",
        "\n",
        "\n",
        "\n"
      ]
    },
    {
      "cell_type": "code",
      "metadata": {
        "id": "OaQlJRnajKCg"
      },
      "source": [
        "rf_train_accuracy = rf.score(x_train,y_train)*100"
      ],
      "execution_count": null,
      "outputs": []
    },
    {
      "cell_type": "code",
      "metadata": {
        "colab": {
          "base_uri": "https://localhost:8080/"
        },
        "id": "W91I-aYugEj_",
        "outputId": "580ca45f-4844-404d-a623-9cffad19d1d0"
      },
      "source": [
        "print(rf_train_accuracy)"
      ],
      "execution_count": null,
      "outputs": [
        {
          "output_type": "stream",
          "text": [
            "88.57142857142857\n"
          ],
          "name": "stdout"
        }
      ]
    },
    {
      "cell_type": "markdown",
      "metadata": {
        "id": "4bhKLQMijGnH"
      },
      "source": [
        "# **Test Dataset score Random Forest**"
      ]
    },
    {
      "cell_type": "code",
      "metadata": {
        "id": "svaeMKPrW5y5"
      },
      "source": [
        "y_pred=rf.predict(x_test)"
      ],
      "execution_count": null,
      "outputs": []
    },
    {
      "cell_type": "code",
      "metadata": {
        "colab": {
          "base_uri": "https://localhost:8080/"
        },
        "id": "eNqWC0AJW71x",
        "outputId": "5bfc5cbe-a980-46b9-f7a2-5cfc682e3a3e"
      },
      "source": [
        "from sklearn.metrics import accuracy_score\n",
        "rf_test_accuracy = accuracy_score(y_test, y_pred)*100\n",
        "print(rf_test_accuracy)"
      ],
      "execution_count": null,
      "outputs": [
        {
          "output_type": "stream",
          "text": [
            "75.55555555555556\n"
          ],
          "name": "stdout"
        }
      ]
    },
    {
      "cell_type": "code",
      "metadata": {
        "id": "sz6GrXtgvyAR"
      },
      "source": [
        "from sklearn.metrics import confusion_matrix"
      ],
      "execution_count": null,
      "outputs": []
    },
    {
      "cell_type": "code",
      "metadata": {
        "colab": {
          "base_uri": "https://localhost:8080/"
        },
        "id": "XTLdABlMv1jb",
        "outputId": "b11c4991-237c-409c-8ccd-8b6f0d81fde6"
      },
      "source": [
        "confusion_matrix(y_pred,y_test)"
      ],
      "execution_count": null,
      "outputs": [
        {
          "output_type": "execute_result",
          "data": {
            "text/plain": [
              "array([[78, 12],\n",
              "       [21, 24]])"
            ]
          },
          "metadata": {
            "tags": []
          },
          "execution_count": 140
        }
      ]
    },
    {
      "cell_type": "markdown",
      "metadata": {
        "id": "5sz_99LqkQVu"
      },
      "source": [
        "# **Random Forest Algorithm Train data and Test Data Accuracy barchart**"
      ]
    },
    {
      "cell_type": "code",
      "metadata": {
        "colab": {
          "base_uri": "https://localhost:8080/",
          "height": 295
        },
        "id": "ezG1fLf3e8ob",
        "outputId": "08f25f13-b7e2-4e79-969c-20c7084ad8b0"
      },
      "source": [
        "RF_x=[\"Train Dataset\",\"Test Dataset\"]\n",
        "RF_y=[rf_train_accuracy,rf_test_accuracy]\n",
        "plt.bar(RF_x,RF_y)\n",
        "plt.xlabel(\"Dataset type\")\n",
        "plt.ylabel(\"Accuracy Rate\")\n",
        "plt.title(\"Accuracy visualization of Random Forest algorithm\")\n",
        "plt.show()"
      ],
      "execution_count": null,
      "outputs": [
        {
          "output_type": "display_data",
          "data": {
            "image/png": "[encoded data removed]",
            "text/plain": [
              "<Figure size 432x288 with 1 Axes>"
            ]
          },
          "metadata": {
            "tags": [],
            "needs_background": "light"
          }
        }
      ]
    },
    {
      "cell_type": "code",
      "metadata": {
        "id": "FDwQhRrpALLU",
        "colab": {
          "base_uri": "https://localhost:8080/",
          "height": 295
        },
        "outputId": "08867759-d40f-4683-d35a-3e1140880eb7"
      },
      "source": [
        "Accuracy_algorithm=[\"Decision Tree\",\"Random Forest\",\"Logistic Regression\"]\n",
        "Accuracy_Digit=[dt_test_accuracy,rf_test_accuracy,lr_test_accuracy]\n",
        "plt.bar(Accuracy_algorithm,Accuracy_Digit)\n",
        "plt.xlabel(\"Algorithm type\")\n",
        "plt.ylabel(\"Accuracy Rate\")\n",
        "plt.title(\"Different Types Algorithm Accuracy\")\n",
        "plt.show()"
      ],
      "execution_count": null,
      "outputs": [
        {
          "output_type": "display_data",
          "data": {
            "image/png": "[encoded data removed]",
            "text/plain": [
              "<Figure size 432x288 with 1 Axes>"
            ]
          },
          "metadata": {
            "tags": [],
            "needs_background": "light"
          }
        }
      ]
    },
    {
      "cell_type": "markdown",
      "metadata": {
        "id": "FLInRF9MjtDW"
      },
      "source": [
        "# **Prediction Test**"
      ]
    },
    {
      "cell_type": "code",
      "metadata": {
        "colab": {
          "base_uri": "https://localhost:8080/"
        },
        "id": "_MJYuY8tkUTM",
        "outputId": "e65ae532-05b6-433c-8232-b2a685a3b378"
      },
      "source": [
        "lr=LogisticRegressionCV()\n",
        "lr.fit(x_train,y_train)"
      ],
      "execution_count": null,
      "outputs": [
        {
          "output_type": "execute_result",
          "data": {
            "text/plain": [
              "LogisticRegressionCV(Cs=10, class_weight=None, cv=None, dual=False,\n",
              "                     fit_intercept=True, intercept_scaling=1.0, l1_ratios=None,\n",
              "                     max_iter=100, multi_class='auto', n_jobs=None,\n",
              "                     penalty='l2', random_state=None, refit=True, scoring=None,\n",
              "                     solver='lbfgs', tol=0.0001, verbose=0)"
            ]
          },
          "metadata": {
            "tags": []
          },
          "execution_count": 143
        }
      ]
    },
    {
      "cell_type": "code",
      "metadata": {
        "id": "DhnqeJjjjNoo"
      },
      "source": [
        "y_pred=lr.predict(x_test)"
      ],
      "execution_count": null,
      "outputs": []
    },
    {
      "cell_type": "code",
      "metadata": {
        "colab": {
          "base_uri": "https://localhost:8080/"
        },
        "id": "fX9vBfOYk3uF",
        "outputId": "ed2d9a52-564b-463b-b842-74202baa7a94"
      },
      "source": [
        "lr_test_accuracy = accuracy_score(y_test, y_pred)*100\n",
        "\n",
        "print(format(lr_test_accuracy, \".2f\"))"
      ],
      "execution_count": null,
      "outputs": [
        {
          "output_type": "stream",
          "text": [
            "84.44\n"
          ],
          "name": "stdout"
        }
      ]
    },
    {
      "cell_type": "code",
      "metadata": {
        "id": "VGs2IV_Uk-qb"
      },
      "source": [
        "prediction = lr.predict([[19,1,1,1,1,1,1,0,1]])"
      ],
      "execution_count": null,
      "outputs": []
    },
    {
      "cell_type": "code",
      "metadata": {
        "colab": {
          "base_uri": "https://localhost:8080/"
        },
        "id": "nY6_VhX4lKrM",
        "outputId": "84f7b982-7d45-4c0e-85e8-736ff38d4f36"
      },
      "source": [
        "prediction"
      ],
      "execution_count": null,
      "outputs": [
        {
          "output_type": "execute_result",
          "data": {
            "text/plain": [
              "array(['Yes'], dtype=object)"
            ]
          },
          "metadata": {
            "tags": []
          },
          "execution_count": 147
        }
      ]
    },
    {
      "cell_type": "code",
      "metadata": {
        "colab": {
          "base_uri": "https://localhost:8080/"
        },
        "id": "1ChMWJ6rwBUa",
        "outputId": "5199acfe-82eb-463e-f136-5661ef5140fd"
      },
      "source": [
        "prediction_2 = lr.predict([[40,0,1,1,1,1,1,1,1]])\n",
        "print(\"Black Fungas\",prediction_2[0])"
      ],
      "execution_count": null,
      "outputs": [
        {
          "output_type": "stream",
          "text": [
            "Black Fungas Yes\n"
          ],
          "name": "stdout"
        }
      ]
    }
  ]
}